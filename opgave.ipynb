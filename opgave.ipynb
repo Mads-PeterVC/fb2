{
 "cells": [
  {
   "cell_type": "code",
   "execution_count": null,
   "id": "c82f63f9",
   "metadata": {},
   "outputs": [],
   "source": [
    "import numpy as np\n",
    "import pandas as pd\n",
    "import matplotlib.pyplot as plt\n",
    "from scipy.optimize import curve_fit\n",
    "from fb2 import mm_widget, add_textbox"
   ]
  },
  {
   "cell_type": "markdown",
   "id": "4002af46",
   "metadata": {},
   "source": [
    "# Michaelis-Menten Kinetik"
   ]
  },
  {
   "cell_type": "markdown",
   "id": "cab024b1",
   "metadata": {},
   "source": [
    "Som beskrevet tidligere i kurset kan nogle enzyme katalyserede reaktioner beskrives med **Michaelis-Menten ligningen**:\n",
    "\n",
    "$$\n",
    "v = \\frac{V_{\\mathrm{max}}[S]}{K_m + [S]}\n",
    "$$\n",
    "\n",
    "Hvor \n",
    "\n",
    "- $v$ er reaktions hastigheden.\n",
    "- $[S]$ er koncentrationen af substratet. \n",
    "- $V_{\\mathrm{max}}$ er den maksimale reaktions rate. \n",
    "- $K_m$ er Michaelis konstanten"
   ]
  },
  {
   "cell_type": "markdown",
   "id": "2c2b7032",
   "metadata": {},
   "source": [
    "### Opgave 1: Analyse af Michaelis-Menten ligningen"
   ]
  },
  {
   "cell_type": "markdown",
   "id": "f5aa901d",
   "metadata": {},
   "source": [
    "Cellen nedenfor laver et interaktivt plot af Michaelis-Menten ligningen, brug \n",
    "dette til at svare på disse spørgsmål: \n",
    "\n",
    "- Hvad er betydningen af $V_\\mathrm{max}$? Hvilken indflydelse har denne parametre? \n",
    "- Hvad kontrollere $K_m$ parameteren? Hvad sker der hvis $K_m$ er lille/stor? \n",
    "- Hvad er værdien af reaktions hastigheden når substrat koncentrationen er lig $K_m$?\n",
    "- Hvorfor er det en asymptoptisk kurve? Hvad betyder det for enzymerne i reaktionen?\n",
    "\n",
    "Snak gerne om spørgsmålene i små grupper."
   ]
  },
  {
   "cell_type": "code",
   "execution_count": null,
   "id": "67755609",
   "metadata": {},
   "outputs": [],
   "source": [
    "mm_widget()"
   ]
  },
  {
   "cell_type": "markdown",
   "id": "0774738b",
   "metadata": {},
   "source": [
    "### Datasæt"
   ]
  },
  {
   "cell_type": "markdown",
   "id": "7c409111",
   "metadata": {},
   "source": [
    "Vi vil i resten af opgaven lære at bruge Python til at fitte Michaelis-Menten ligningen mod data, så \n",
    "de to parametre kan findes. \n",
    "\n",
    "Til dette vil vi bruge data'en vist nedenfor"
   ]
  },
  {
   "cell_type": "code",
   "execution_count": null,
   "id": "d7110fa8",
   "metadata": {},
   "outputs": [],
   "source": [
    "data = pd.read_csv('combined_data.txt', sep='\\t') # Læser data fra en tab-separeret fil\n",
    "data # Udskriver data for at se hvad der er i filen - Pænt i Jupyter Notebook."
   ]
  },
  {
   "cell_type": "markdown",
   "id": "df409f9a",
   "metadata": {},
   "source": [
    "Hvor disse størrelser har følgende enheder\n",
    "\n",
    "| Substrate_Concentration | Reaction_Velocity | Inverse_Substrate | Inverse_Velocity |\n",
    "| ----------------------- | ----------------- | ----------------- | ---------------- |\n",
    "| $mM$                    | $\\frac{μM}{min}$  | $\\frac{1}{mM}$    | $\\frac{\\mathrm{min}}{μM}$ |"
   ]
  },
  {
   "cell_type": "markdown",
   "id": "d2e30f67",
   "metadata": {},
   "source": [
    "For at danne os et indtryk af dataen er det altid en god ide at plotte det.\n",
    "\n",
    "<div class=\"alert alert-block alert-info\"> <b>Note:</b> Læg mærke til at der bruges \n",
    "firkant parenteser til at trække kolonner ud af datasættet. \n",
    "F.eks. <code>x_data = data['Inverse_Substrate']</code></div>"
   ]
  },
  {
   "cell_type": "code",
   "execution_count": null,
   "id": "f55e2a0b",
   "metadata": {},
   "outputs": [],
   "source": [
    "fig, axes = plt.subplots(1, 2, figsize=(7, 3))\n",
    "x_data = data['Inverse_Substrate'] # Bruger [...] til at hente kolonne\n",
    "y_data = data['Inverse_Velocity'] \n",
    "axes[0].plot(x_data, y_data, 'o')\n",
    "axes[1].plot(data['Substrate_Concentration'], data['Reaction_Velocity'], 'o')\n",
    "\n",
    "axes[0].set_xlabel('Invers substrat koncentration [1/mM]')\n",
    "axes[0].set_ylabel('Invers reaktions hastighed [min/μM]')\n",
    "axes[1].set_xlabel('Substrat koncentration [mM]')\n",
    "axes[1].set_ylabel('Reaktions hastighed [μM/min]')"
   ]
  },
  {
   "cell_type": "markdown",
   "id": "2524c9b0",
   "metadata": {},
   "source": [
    "Vi vil gerne finde ud af om det givne data opfører sig som vi forventer - sagt \n",
    "på en anden måde vil vi se om det passer med formlerne. \n",
    "\n",
    "Vi vil gøre dette ved at fitte dataen til ligningerne, dette er et *curve fit*. \n",
    "Python har mange redskaber der kan hjælpe os, i dette tilfælde vil vi bruge `curve_fit`-funktionen. \n",
    "\n",
    "For at bruge `curve_fit` skal vi fortælle programmet formlen for den funktion vi vil fitte mod. \n",
    "Det gøres ved at definere en funktion der beregner formlen. \n"
   ]
  },
  {
   "cell_type": "markdown",
   "id": "ea873dc9",
   "metadata": {},
   "source": [
    "### Opgave 1: Fit af invers koncentration mod invers reaktionshastighed."
   ]
  },
  {
   "cell_type": "markdown",
   "id": "e80d36ca",
   "metadata": {},
   "source": [
    "Til at starte med vil vi prøve at fitte en lineær funktion,\n",
    "\n",
    "$$\n",
    "y = a x + b\n",
    "$$\n",
    "\n",
    "Hvor\n",
    "\n",
    "- $x$: Invers subtrat koncentratation.\n",
    "- $y$: Invers reaktions hastighed.\n",
    "\n",
    "Så vi vil altså finde hældningskoefficienten *a* og skæringspunktet *b* sådan at formlen \n",
    "passer bedst muligt til vores data.\n",
    "\n",
    "Vi starter med at skrive en Python-funktion der definere den linære funktion\n",
    "\n",
    "<div class=\"alert alert-block alert-info\"> <b>Note:</b> At definere en funktion i Python er \n",
    "som skrive en opskrift ned uden at starte med at lave maden, \n",
    "der regnes ikke noget før funktionen 'kaldes' med () f.eks. <code>lineær_funktion(1, 2, 0)</code>.</div>"
   ]
  },
  {
   "cell_type": "code",
   "execution_count": null,
   "id": "cfd8dcbd",
   "metadata": {},
   "outputs": [],
   "source": [
    "def lineær_funktion(x, a, b):\n",
    "    \"\"\"Lineær funktion for curve fitting.\n",
    "\n",
    "    Parametre:\n",
    "    x : Inverse substrat koncentration\n",
    "    a : Hældningskoefficient\n",
    "    b : Skæringspunkt med y-aksen\n",
    "\n",
    "    Returnerer:\n",
    "    Værdien af den lineære funktion for givet x.\n",
    "    \"\"\"\n",
    "    return a * x + b # Opgave: Implementer formlen for den lineære funktion"
   ]
  },
  {
   "cell_type": "markdown",
   "id": "bfd0c2e0",
   "metadata": {},
   "source": [
    "Det er altid en god ide at checke at vi har implemeneret en funktion korrekt, \n",
    "i dette tilfælde kan vi f.eks. checke at disse gælder\n",
    "\n",
    "- Hvis `x = 0` skal `lineær_funktion` give `b`.\n",
    "- Hvis `x = 1` og `b = 0` skal `lineær_funktion` give `a`."
   ]
  },
  {
   "cell_type": "code",
   "execution_count": null,
   "id": "c3367c8c",
   "metadata": {},
   "outputs": [],
   "source": [
    "# Dette kalder funktionen så beregningen udføres\n",
    "lineær_funktion(x=0, a=1, b=2) # For x = 0 skal funktionen returnere b"
   ]
  },
  {
   "cell_type": "code",
   "execution_count": null,
   "id": "3b90a869",
   "metadata": {},
   "outputs": [],
   "source": [
    "lineær_funktion(x=1, a=1, b=0) # For x = 1 og b = 0 skal funktionen returnere a"
   ]
  },
  {
   "cell_type": "markdown",
   "id": "f85609e3",
   "metadata": {},
   "source": [
    "Nu har vi funktionen og kan nu bruge den til at fitte med. \n",
    "\n",
    "Vi starter med at trække de relevant kolonner ud af vores datasæt.\n",
    "\n",
    "Den inverse substrat koncentration kan f.eks. trækkes ud med `data[\"Inverse_Substrate\"]`"
   ]
  },
  {
   "cell_type": "code",
   "execution_count": null,
   "id": "3b40e432",
   "metadata": {},
   "outputs": [],
   "source": [
    "x_data = data['Inverse_Substrate'] # Opgave: Hent invers substrat koncentration\n",
    "y_data = data['Inverse_Velocity']  # Opgave: Hent invers reaktions hastighed"
   ]
  },
  {
   "cell_type": "markdown",
   "id": "6539bf5e",
   "metadata": {},
   "source": [
    "Du kan printe dataen for at se at det er det korrekte"
   ]
  },
  {
   "cell_type": "code",
   "execution_count": null,
   "id": "4cf09ef6",
   "metadata": {},
   "outputs": [],
   "source": [
    "print(x_data)"
   ]
  },
  {
   "cell_type": "markdown",
   "id": "d575ff90",
   "metadata": {},
   "source": [
    "Nu kan vi bruge `curve_fit` funktionen til at lave fittet. Syntaksen er \n",
    "\n",
    "`popt, pcov = curve_fit(funktion, x_data, y_data, p0)`\n",
    "\n",
    "Hvor `popt` er en liste af de fundne parametre i samme rækkefølge som i definition af funktionen, og \n",
    "`p0` er et start gæt på hvad parametrene kunne være. \n",
    "\n",
    "I dette tilfælde vælger vi at gætte på at begge parametre er 1 så"
   ]
  },
  {
   "cell_type": "code",
   "execution_count": null,
   "id": "44b143cb",
   "metadata": {},
   "outputs": [],
   "source": [
    "p0 = (1, 1) # Opgave: Gæt på startværdier for a og b"
   ]
  },
  {
   "cell_type": "code",
   "execution_count": null,
   "id": "189246bd",
   "metadata": {},
   "outputs": [],
   "source": [
    "popt, _ = curve_fit(lineær_funktion, x_data, y_data, p0=p0) # Opgave: Fit data til den lineære funktion\n",
    "a, b = popt\n",
    "print(f'Hældning: {a:.3f}') # Vi bruger 'print' til at udskrive værdier {a:.3f} betyder at vi udskriver a med 3 decimaler\n",
    "print(f'Skæringspunkt: {b:.3f}') # Opgave: Udskriv hældning og skæringspunkt"
   ]
  },
  {
   "cell_type": "markdown",
   "id": "dbb6ead6",
   "metadata": {},
   "source": [
    "<details>\n",
    "    <summary><strong><span style=\"color: lightblue; font-size: 18px;\">💡 Ekstra info</span></strong></summary>\n",
    "    <p> curve_fit funktionen returnere en liste af de fundne parametre værdier, og variansen af dem. Ved at sige <code>popt, _</code> sættes variansen i en dummy variable <code>_</code> som vi ikke bruger.</p>\n",
    "  </details>"
   ]
  },
  {
   "cell_type": "markdown",
   "id": "4f134645",
   "metadata": {},
   "source": [
    "Som vi har hørt i forelæsningen er dette  fit af reciprokke størrelser kendt som \n",
    "Lineweaver–Burk transformationen; \n",
    "\n",
    "\n",
    "\\begin{align*}\n",
    "y &= v  \\\\ \n",
    "&= a x + b \\\\ \n",
    "& = a [S] + b \\\\\n",
    "& = \\frac{K_m}{V_\\mathrm{max}} [S] + \\frac{1}{V_\\mathrm{max}}\n",
    "\\end{align*}\n",
    "\n",
    "\n",
    "Så kan vi bruge de fundne værdier af hældningen og skæringspunktet til at beregne $V_\\mathrm{max}$ og $K_m$.\n",
    "Det kan vises at\n",
    "\n",
    "$$\n",
    "V_{max} = \\frac{1}{b}\n",
    "$$\n",
    "\n",
    "$$\n",
    "K_m = \\frac{a}{b}\n",
    "$$"
   ]
  },
  {
   "cell_type": "code",
   "execution_count": null,
   "id": "c6517b5d",
   "metadata": {},
   "outputs": [],
   "source": [
    "V_max = 1 / b # Opgave: Beregn V_max\n",
    "K_m = a / b   # Opgave: Beregn K_m\n",
    "print(f'V_max: {V_max:.3f} [μM/min]')\n",
    "print(f'K_m: {K_m:.3f} [mM]')"
   ]
  },
  {
   "cell_type": "markdown",
   "id": "9181016d",
   "metadata": {},
   "source": [
    "<div class=\"alert alert-block alert-info\"> <b>Note:</b> Det er altid vægt at holde styr på enheder af beregnede størrelser. Fra ligningen \\(v = \\frac{V_{\\mathrm{max}}[S]}{K_m + [S]}\\) kan vi se at enheden \n",
    "af \\(K_m\\) skal være \\(mM\\) og at \\(V_{\\mathrm{max}}\\) har samme enhed som $v$ altså [μM/min].</div>"
   ]
  },
  {
   "cell_type": "markdown",
   "id": "6d55c3e5",
   "metadata": {},
   "source": [
    "Vi kan nu bruge de fundne parametre til at udregne kurven fra vores fit."
   ]
  },
  {
   "cell_type": "code",
   "execution_count": null,
   "id": "120bd8d6",
   "metadata": {},
   "outputs": [],
   "source": [
    "x_fit = np.linspace(-1, 11, 100) # Dette laver 100 punkter mellem -1 og 11\n",
    "y_fit = lineær_funktion(x_fit, a, b) # Vi bruger den lineære funktion til at beregne y-værdierne for de x-værdier vi har lavet"
   ]
  },
  {
   "cell_type": "markdown",
   "id": "b3e7e677",
   "metadata": {},
   "source": [
    "For at vurdere hvor godt vores fit passer kan vi beregne mean squared error (MSE)\n",
    "fittet og vores data\n",
    "\n",
    "$$\n",
    "\\mathrm{mse} = \\frac{1}{N} \\sum_i (f(x_i) - y_i)^2\n",
    "$$\n",
    "Hvor $f$ er den funktion vi har fittet, $N$ er antallet af data eksempler og $x_i$ og $y_i$ er vores data.\n",
    "Figuren nedenfor illustrerer hvordan MSE kan fortolkes\n",
    "\n",
    "<img src=\"https://images.prismic.io/encord/08ced892-f045-41f7-9007-d1ab3b426159_image7.png?auto=compress,format\" width=\"600\">"
   ]
  },
  {
   "cell_type": "code",
   "execution_count": null,
   "id": "9296209d",
   "metadata": {},
   "outputs": [],
   "source": [
    "mse = np.sqrt(np.mean((lineær_funktion(x_data, a, b) - y_data) ** 2))\n",
    "print(f'Mean Squared Error: {mse:.1e}')"
   ]
  },
  {
   "cell_type": "markdown",
   "id": "d348966b",
   "metadata": {},
   "source": [
    "Du burde få en MSE sammenlignlig med `3.4e-16` som bettyder $3.4 \\times 10^{-16}$, altså et meget lille tal.\n",
    "\n",
    "Nu kan vi plotte vores fit sammen med dataen."
   ]
  },
  {
   "cell_type": "code",
   "execution_count": null,
   "id": "15f836d5",
   "metadata": {},
   "outputs": [],
   "source": [
    "fig, ax = plt.subplots(figsize=(3.5, 3.5))\n",
    "\n",
    "# Plot af den fitted lineære funktion\n",
    "ax.plot(x_fit, y_fit, color='red') # Opgave: Plot den fittede funktion\n",
    "\n",
    "# Plot af data -  dette plotter data som cirkler\n",
    "ax.plot(data['Inverse_Substrate'], data['Inverse_Velocity'], 'o')\n",
    "\n",
    "# Sætter en tekstboks med de fittede parametre ind\n",
    "add_textbox(ax, a=a, b=b, V_max=V_max, K_m=K_m, mse=mse)\n",
    "\n",
    "ax.set_xlabel('Invers substrat koncentration [1/mM]')\n",
    "ax.set_ylabel('Invers reaktions hastighed [min/μM]');"
   ]
  },
  {
   "cell_type": "markdown",
   "id": "13cbe4e9",
   "metadata": {},
   "source": [
    "<div class=\"alert alert-block alert-success\"> <b>Takeaway:</b> Vi kan se at det  fit passer meget godt med vores data! Vi kan se det visuelt, linjen gør igennem alle vores data punkter og kvantativt har vi regnet en \n",
    "MSE på størrelses orden \\(1 \\times 10^{-16}\\) (0.0000000000000001) som er på størrelse ordne af den numeriske \n",
    "præcision af Python brugt på denne måde.</div>"
   ]
  },
  {
   "cell_type": "markdown",
   "id": "4f88df70",
   "metadata": {},
   "source": [
    "<details>\n",
    "    <summary><strong><span style=\"color: lightblue; font-size: 18px;\">💡 Ekstra info - Textbox </span></strong></summary>\n",
    "    <p> Hvis du er interesseret kan du se koden for at lave tekstboxen med <code>add_textbox??</code> i en kode celle. \n",
    "    Dette kan gøres for alle funktioner som du gerne vil forstå i mere detalje. </p>\n",
    "  </details>"
   ]
  },
  {
   "cell_type": "markdown",
   "id": "3ebb4b27",
   "metadata": {},
   "source": [
    "### Opgave 2: Michaelis-Menten fit "
   ]
  },
  {
   "cell_type": "markdown",
   "id": "d3de958b",
   "metadata": {},
   "source": [
    "Nu vil vi fitte direkte til Michaelis-Menten ligningen, som igen er givet ved \n",
    "\n",
    "$$\n",
    "v = \\frac{V_{\\mathrm{max}}[S]}{K_m + [S]}\n",
    "$$\n",
    "\n",
    "Vi skal altså finde parametrene $V_\\mathrm{max}$ og $K_m$.\n",
    "\n",
    "Vi starter med at definere en funktion der beregner formlen"
   ]
  },
  {
   "cell_type": "code",
   "execution_count": null,
   "id": "62cd0e0b",
   "metadata": {},
   "outputs": [],
   "source": [
    "def michaelis_menten(S, V_max, K_m):\n",
    "    return (V_max * S) / (K_m + S) # Opgave: Implementer Michaelis-Menten ligningen"
   ]
  },
  {
   "cell_type": "markdown",
   "id": "598bdc61",
   "metadata": {},
   "source": [
    "Et par ting der skal gælde for funktionen er; \n",
    "\n",
    "- For store værdier af koncentrationen `S` skal reaktions hastigheden være tæt på `V_max`\n",
    "- Når koncentrationen er lig med Michaelis konstanten skal reaktionshastigheden være 1/2 `V_max`.\n",
    "\n",
    "Brug denne information og de to næste celler til at analysere om din funktion er korrekt."
   ]
  },
  {
   "cell_type": "code",
   "execution_count": null,
   "id": "85239bbb",
   "metadata": {},
   "outputs": [],
   "source": [
    "v = michaelis_menten(S=100, V_max=10, K_m=1)\n",
    "print('S = 100, V_max = 10, K_m = 1')\n",
    "print(f'v = {v:.2f}') # Skal være tæt på V_max"
   ]
  },
  {
   "cell_type": "code",
   "execution_count": null,
   "id": "640f9fee",
   "metadata": {},
   "outputs": [],
   "source": [
    "v = michaelis_menten(S=0.5, V_max=10, K_m=0.5)\n",
    "print('S = 0.5, V_max = 10, K_m = 0.5')\n",
    "print(f'v = {v:.2f}') # Skal være tæt på 1/2 V_max"
   ]
  },
  {
   "cell_type": "markdown",
   "id": "fce7eb61",
   "metadata": {},
   "source": [
    "Når du er tilfreds kan du gå videre til at lave fittet\n",
    "\n",
    "Først skal vi hente den afhængige og uafhængige variable fra vores datasæt"
   ]
  },
  {
   "cell_type": "code",
   "execution_count": null,
   "id": "cf95595d",
   "metadata": {},
   "outputs": [],
   "source": [
    "x_data = data['Substrate_Concentration'] # Opgave: Hent substrat koncentration\n",
    "y_data = data['Reaction_Velocity']  # Opgave: Hent reaktions hastighed"
   ]
  },
  {
   "cell_type": "markdown",
   "id": "156c5e91",
   "metadata": {},
   "source": [
    "Nu har vi tre ting\n",
    "- x: Den uafhængige variable\n",
    "- y: Den afhængige variable\n",
    "- En funktion \n",
    "\n",
    "Så vi mangler bare et start gæt på værdierne af $V_\\mathrm{max}$ og $K_m$, som før vælger vi at sætte dem til 1."
   ]
  },
  {
   "cell_type": "code",
   "execution_count": null,
   "id": "cbe0cc1f",
   "metadata": {},
   "outputs": [],
   "source": [
    "p0 = (1, 1) # Start værider for V_max og Km"
   ]
  },
  {
   "cell_type": "markdown",
   "id": "fc3155e4",
   "metadata": {},
   "source": [
    "Nu er vi klar til at lave fittet. \n",
    "\n",
    "Brug i cellen nedenfor `curve_fit` og træk de to parametere ud i hver deres variable `V_max` og `K_m`.\n",
    "\n",
    "<details>\n",
    "    <summary><strong><span style=\"color: lightblue; font-size: 18px;\">💡 Hint 1 </p></strong></summary>\n",
    "    Husk at <code>curve_fit</code> returnere to ting en liste <code>popt</code> og <code>pcov</code> som vi ikke skal bruge.\n",
    "  </details>\n",
    "\n",
    "<details>\n",
    "    <summary><strong><span style=\"color: lightblue; font-size: 18px;\">💡 Hint 2 </p></strong></summary>\n",
    "    Husk at du skal give 4 argumenter til <code>curve_fit</code> og at rækkefølgen skal være rigtig.    \n",
    "  </details>\n",
    "\n",
    "<details>\n",
    "    <summary><strong><span style=\"color: lightblue; font-size: 18px;\">💡 Hint 3 </p></strong></summary>\n",
    "    Parameterne returneres <code></code> som en liste af tal i samme rækkefølge som de er brugt i funktionen <code>michaelis_menten</code>. Hvis du gemmer den i en variable <code>popt</code> kan du indeksere for at trække \n",
    "    hvert enkelt ud <code>V_max = popt[0]</code>\n",
    "  </details>\n"
   ]
  },
  {
   "cell_type": "code",
   "execution_count": null,
   "id": "69de4333",
   "metadata": {},
   "outputs": [],
   "source": []
  },
  {
   "cell_type": "code",
   "execution_count": null,
   "id": "22e7e9a2",
   "metadata": {},
   "outputs": [],
   "source": [
    "print(f'V_max: {V_max}')\n",
    "print(f'K_m: {K_m}')"
   ]
  },
  {
   "cell_type": "markdown",
   "id": "3fa165e9",
   "metadata": {},
   "source": [
    "Ligesom med det linære fit kan vi nu regne funktionen med de fittede parametre og bruge \n",
    "disse til at udregne MSE og lavet et plot"
   ]
  },
  {
   "cell_type": "code",
   "execution_count": null,
   "id": "d3416bf2",
   "metadata": {},
   "outputs": [],
   "source": [
    "x_fit = np.linspace(0, data['Substrate_Concentration'].max(), 100) # Laver 100 punkter mellem 0 og den maksimale substrat koncentration\n",
    "y_fit = michaelis_menten(x_fit, V_max, K_m)"
   ]
  },
  {
   "cell_type": "markdown",
   "id": "8b48da14",
   "metadata": {},
   "source": [
    "Vi regner MSE på samme måde, ved at sammenligne beregne funktions-værdier med data."
   ]
  },
  {
   "cell_type": "code",
   "execution_count": null,
   "id": "02ebf111",
   "metadata": {},
   "outputs": [],
   "source": [
    "mse = np.sqrt(np.mean((michaelis_menten(x_data, V_max, K_m) - y_data) ** 2))\n",
    "print(f'Mean Squared Error: {mse:.1e}')"
   ]
  },
  {
   "cell_type": "markdown",
   "id": "dd9b8df4",
   "metadata": {},
   "source": [
    "Og endeligt kan vi plotte vores fit"
   ]
  },
  {
   "cell_type": "code",
   "execution_count": null,
   "id": "e8439292",
   "metadata": {},
   "outputs": [],
   "source": [
    "fig, ax = plt.subplots(figsize=(4, 4))\n",
    "ax.plot(data['Substrate_Concentration'], data['Reaction_Velocity'], 'o')\n",
    "ax.plot(x_fit, y_fit, label='Fitted Michaelis-Menten funktion', color='red')\n",
    "\n",
    "add_textbox(ax, V_max=V_max, K_m=K_m, mse=mse)\n",
    "\n",
    "ax.set_xlabel('Substrat koncentration [mM]')\n",
    "ax.set_ylabel('Reaktions hastighed [μM/min]')\n",
    "ax.set_xlim(0-0.5, x_fit.max()+0.5)"
   ]
  },
  {
   "cell_type": "markdown",
   "id": "6cdc5ea0",
   "metadata": {},
   "source": [
    "<div class=\"alert alert-block alert-success\"> <b>Takeaway:</b> Vi får igen et rigtig godt fit med en meget lille MSE, \n",
    "og de fundne værdier af \\(V_\\mathrm{max}\\) og \\(K_m\\) er de samme som vi fandt med det linære fit. </div>"
   ]
  },
  {
   "cell_type": "markdown",
   "id": "024428a5",
   "metadata": {},
   "source": [
    "# Opsamling\n",
    "\n",
    "Vi har studeret Michaelis-Menten kinetik og lært at bruge Python til at fitte Michalis-Menten ligningen \n",
    "til at datasæt. \n",
    "\n",
    "Samme procedure kan bruges til at fitte andre former for ligninger til mange andre datasæt! \n",
    "\n",
    "Husk at skridtene til at fitte en ligning er\n",
    "\n",
    "1. Definer en Python funktion for den ligninger der skal fittes med. \n",
    "2. Specifere det data der skal bruges, både `x` og `y`-værdier. \n",
    "3. Vælg et start gæt for de parametre der fittes `p0`.\n",
    "3. Brug `curve_fit` til at få de fittede parametre. "
   ]
  }
 ],
 "metadata": {
  "kernelspec": {
   "display_name": "Python 3 (ipykernel)",
   "language": "python",
   "name": "python3"
  },
  "language_info": {
   "codemirror_mode": {
    "name": "ipython",
    "version": 3
   },
   "file_extension": ".py",
   "mimetype": "text/x-python",
   "name": "python",
   "nbconvert_exporter": "python",
   "pygments_lexer": "ipython3",
   "version": "3.12.5"
  }
 },
 "nbformat": 4,
 "nbformat_minor": 5
}
