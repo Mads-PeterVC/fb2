{
 "cells": [
  {
   "cell_type": "code",
   "execution_count": 1,
   "id": "6ff21e67",
   "metadata": {},
   "outputs": [
    {
     "name": "stdout",
     "output_type": "stream",
     "text": [
      "Already installed\n"
     ]
    }
   ],
   "source": [
    "try:\n",
    "    import fb2\n",
    "    print(\"Already installed\")\n",
    "except ImportError:\n",
    "    %pip install -q \"fb2 @ git+https://github.com/Mads-PeterVC/fb2.git\" # Install from GitHub.\n",
    "    print(\"Installed fb2 from GitHub\")"
   ]
  },
  {
   "cell_type": "code",
   "execution_count": 1,
   "id": "c82f63f9",
   "metadata": {},
   "outputs": [],
   "source": [
    "import numpy as np\n",
    "import pandas as pd\n",
    "import matplotlib.pyplot as plt\n",
    "from scipy.optimize import curve_fit\n",
    "from fb2 import mm_widget, add_textbox, get_mm_dataset_path, get_quiz"
   ]
  },
  {
   "cell_type": "markdown",
   "id": "4002af46",
   "metadata": {},
   "source": [
    "# Michaelis-Menten Kinetik"
   ]
  },
  {
   "cell_type": "markdown",
   "id": "cab024b1",
   "metadata": {},
   "source": [
    "Som beskrevet tidligere i kurset kan nogle enzyme katalyserede reaktioner beskrives med **Michaelis-Menten ligningen**:\n",
    "\n",
    "$$\n",
    "v = \\frac{V_{\\mathrm{max}}[S]}{K_m + [S]}\n",
    "$$\n",
    "\n",
    "Hvor \n",
    "\n",
    "- $v$ er reaktions hastigheden.\n",
    "- $[S]$ er koncentrationen af substratet. \n",
    "- $V_{\\mathrm{max}}$ er den maksimale reaktions rate. \n",
    "- $K_m$ er Michaelis konstanten\n",
    "\n",
    "Vi vil i disse opgaver analysere Michaelis-Menten ligningen og bruge den til at fitte data \n",
    "om en enzyme katalyseret reaktion."
   ]
  },
  {
   "cell_type": "markdown",
   "id": "2c2b7032",
   "metadata": {},
   "source": [
    "### Opgave 1: Analyse af Michaelis-Menten ligningen"
   ]
  },
  {
   "cell_type": "markdown",
   "id": "f5aa901d",
   "metadata": {},
   "source": [
    "Cellen nedenfor laver et interaktivt plot af Michaelis-Menten ligningen, brug \n",
    "dette til at svare på disse spørgsmål: \n",
    "\n",
    "- Hvad er betydningen af $V_\\mathrm{max}$? Hvilken indflydelse har denne parametre? \n",
    "- Hvad kontrollere $K_m$ parameteren? Hvad sker der hvis $K_m$ er lille/stor? \n",
    "- Hvad er værdien af reaktions hastigheden når substrat koncentrationen er lig $K_m$?\n",
    "- Hvorfor er det en asymptoptisk kurve? Hvad betyder det for enzymerne i reaktionen?\n",
    "\n",
    "Snak gerne om spørgsmålene i små grupper."
   ]
  },
  {
   "cell_type": "code",
   "execution_count": 3,
   "id": "67755609",
   "metadata": {},
   "outputs": [
    {
     "data": {
      "application/vnd.jupyter.widget-view+json": {
       "model_id": "4ba4bdfea6da4eb987d1c4f2a17b71af",
       "version_major": 2,
       "version_minor": 0
      },
      "text/plain": [
       "VBox(children=(Output(), VBox(children=(FloatSlider(value=1.0, description='Vmax', max=2.0, min=0.01, step=0.0…"
      ]
     },
     "execution_count": 3,
     "metadata": {},
     "output_type": "execute_result"
    }
   ],
   "source": [
    "mm_widget()"
   ]
  },
  {
   "cell_type": "markdown",
   "id": "0774738b",
   "metadata": {},
   "source": [
    "### Datasæt"
   ]
  },
  {
   "cell_type": "markdown",
   "id": "7c409111",
   "metadata": {},
   "source": [
    "Vi vil i resten af opgaven lære at bruge Python til at fitte Michaelis-Menten ligningen mod data, så \n",
    "de to parametre kan findes. \n",
    "\n",
    "Til dette vil vi bruge data'en vist nedenfor"
   ]
  },
  {
   "cell_type": "code",
   "execution_count": 4,
   "id": "d7110fa8",
   "metadata": {},
   "outputs": [
    {
     "data": {
      "text/html": [
       "<div>\n",
       "<style scoped>\n",
       "    .dataframe tbody tr th:only-of-type {\n",
       "        vertical-align: middle;\n",
       "    }\n",
       "\n",
       "    .dataframe tbody tr th {\n",
       "        vertical-align: top;\n",
       "    }\n",
       "\n",
       "    .dataframe thead th {\n",
       "        text-align: right;\n",
       "    }\n",
       "</style>\n",
       "<table border=\"1\" class=\"dataframe\">\n",
       "  <thead>\n",
       "    <tr style=\"text-align: right;\">\n",
       "      <th></th>\n",
       "      <th>Substrate_Concentration</th>\n",
       "      <th>Reaction_Velocity</th>\n",
       "      <th>Inverse_Substrate</th>\n",
       "      <th>Inverse_Velocity</th>\n",
       "    </tr>\n",
       "  </thead>\n",
       "  <tbody>\n",
       "    <tr>\n",
       "      <th>0</th>\n",
       "      <td>0.1</td>\n",
       "      <td>0.238095</td>\n",
       "      <td>10.0</td>\n",
       "      <td>4.20</td>\n",
       "    </tr>\n",
       "    <tr>\n",
       "      <th>1</th>\n",
       "      <td>0.2</td>\n",
       "      <td>0.454545</td>\n",
       "      <td>5.0</td>\n",
       "      <td>2.20</td>\n",
       "    </tr>\n",
       "    <tr>\n",
       "      <th>2</th>\n",
       "      <td>0.5</td>\n",
       "      <td>1.000000</td>\n",
       "      <td>2.0</td>\n",
       "      <td>1.00</td>\n",
       "    </tr>\n",
       "    <tr>\n",
       "      <th>3</th>\n",
       "      <td>1.0</td>\n",
       "      <td>1.666667</td>\n",
       "      <td>1.0</td>\n",
       "      <td>0.60</td>\n",
       "    </tr>\n",
       "    <tr>\n",
       "      <th>4</th>\n",
       "      <td>2.0</td>\n",
       "      <td>2.500000</td>\n",
       "      <td>0.5</td>\n",
       "      <td>0.40</td>\n",
       "    </tr>\n",
       "    <tr>\n",
       "      <th>5</th>\n",
       "      <td>5.0</td>\n",
       "      <td>3.571429</td>\n",
       "      <td>0.2</td>\n",
       "      <td>0.28</td>\n",
       "    </tr>\n",
       "    <tr>\n",
       "      <th>6</th>\n",
       "      <td>10.0</td>\n",
       "      <td>4.166667</td>\n",
       "      <td>0.1</td>\n",
       "      <td>0.24</td>\n",
       "    </tr>\n",
       "  </tbody>\n",
       "</table>\n",
       "</div>"
      ],
      "text/plain": [
       "   Substrate_Concentration  Reaction_Velocity  Inverse_Substrate  \\\n",
       "0                      0.1           0.238095               10.0   \n",
       "1                      0.2           0.454545                5.0   \n",
       "2                      0.5           1.000000                2.0   \n",
       "3                      1.0           1.666667                1.0   \n",
       "4                      2.0           2.500000                0.5   \n",
       "5                      5.0           3.571429                0.2   \n",
       "6                     10.0           4.166667                0.1   \n",
       "\n",
       "   Inverse_Velocity  \n",
       "0              4.20  \n",
       "1              2.20  \n",
       "2              1.00  \n",
       "3              0.60  \n",
       "4              0.40  \n",
       "5              0.28  \n",
       "6              0.24  "
      ]
     },
     "execution_count": 4,
     "metadata": {},
     "output_type": "execute_result"
    }
   ],
   "source": [
    "# path = get_mm_dataset_path()  # Henter stien til mm_data.txt - Hvis Colab / Data fra GitHub.\n",
    "path = 'combined_data.txt'\n",
    "data = pd.read_csv(path, sep='\\t') # Læser data fra en tab-separeret fil\n",
    "data # Udskriver data for at se hvad der er i filen - Pænt i Jupyter Notebook."
   ]
  },
  {
   "cell_type": "markdown",
   "id": "df409f9a",
   "metadata": {},
   "source": [
    "Hvor disse størrelser har følgende enheder\n",
    "\n",
    "| Substrate_Concentration | Reaction_Velocity | Inverse_Substrate | Inverse_Velocity |\n",
    "| ----------------------- | ----------------- | ----------------- | ---------------- |\n",
    "| $mM$                    | $\\frac{μM}{min}$  | $\\frac{1}{mM}$    | $\\frac{\\mathrm{min}}{μM}$ |"
   ]
  },
  {
   "cell_type": "markdown",
   "id": "d2e30f67",
   "metadata": {},
   "source": [
    "For at danne os et indtryk af dataen er det altid en god ide at plotte det.\n",
    "\n",
    "<div class=\"alert alert-block alert-info\"> <b>Note:</b> Læg mærke til at der bruges \n",
    "firkant parenteser til at trække kolonner ud af datasættet. \n",
    "F.eks. <code>x_data = data['Inverse_Substrate']</code></div>"
   ]
  },
  {
   "cell_type": "code",
   "execution_count": 5,
   "id": "f55e2a0b",
   "metadata": {},
   "outputs": [
    {
     "data": {
      "text/plain": [
       "Text(0, 0.5, 'Reaktions hastighed [μM/min]')"
      ]
     },
     "execution_count": 5,
     "metadata": {},
     "output_type": "execute_result"
    },
    {
     "data": {
      "image/png": "[encoded data removed]",
      "text/plain": [
       "<Figure size 700x300 with 2 Axes>"
      ]
     },
     "metadata": {},
     "output_type": "display_data"
    }
   ],
   "source": [
    "fig, axes = plt.subplots(1, 2, figsize=(7, 3))\n",
    "x_data = data['Inverse_Substrate'] # Bruger [...] til at hente kolonne\n",
    "y_data = data['Inverse_Velocity'] \n",
    "axes[0].plot(x_data, y_data, 'o')\n",
    "axes[1].plot(data['Substrate_Concentration'], data['Reaction_Velocity'], 'o')\n",
    "\n",
    "axes[0].set_xlabel('Invers substrat koncentration [1/mM]')\n",
    "axes[0].set_ylabel('Invers reaktions hastighed [min/μM]')\n",
    "axes[1].set_xlabel('Substrat koncentration [mM]')\n",
    "axes[1].set_ylabel('Reaktions hastighed [μM/min]')"
   ]
  },
  {
   "cell_type": "markdown",
   "id": "2524c9b0",
   "metadata": {},
   "source": [
    "Vi vil gerne finde ud af om det givne data opfører sig som vi forventer - sagt \n",
    "på en anden måde vil vi se om det passer med formlerne. \n",
    "\n",
    "Vi vil gøre dette ved at fitte dataen til ligningerne, dette er et *curve fit*. \n",
    "Python har mange redskaber der kan hjælpe os, i dette tilfælde vil vi bruge `curve_fit`-funktionen. \n",
    "\n",
    "For at bruge `curve_fit` skal vi fortælle programmet formlen for den funktion vi vil fitte mod. \n",
    "Det gøres ved at definere en funktion der beregner formlen. \n"
   ]
  },
  {
   "cell_type": "markdown",
   "id": "ea873dc9",
   "metadata": {},
   "source": [
    "### Opgave 1: Fit af invers koncentration mod invers reaktionshastighed."
   ]
  },
  {
   "cell_type": "markdown",
   "id": "e80d36ca",
   "metadata": {},
   "source": [
    "Til at starte med vil vi prøve at fitte en lineær funktion,\n",
    "\n",
    "$$\n",
    "y = a x + b\n",
    "$$\n",
    "\n",
    "Hvor\n",
    "\n",
    "- $x$: Invers subtrat koncentratation.\n",
    "- $y$: Invers reaktions hastighed.\n",
    "\n",
    "Så vi vil altså finde hældningskoefficienten *a* og skæringspunktet *b* sådan at formlen \n",
    "passer bedst muligt til vores data.\n",
    "\n",
    "Vi starter med at skrive en Python-funktion der definere den linære funktion\n",
    "\n",
    "<div class=\"alert alert-block alert-info\"> <b>Note:</b> At definere en funktion i Python er \n",
    "som skrive en opskrift ned uden at starte med at lave maden, \n",
    "der regnes ikke noget før funktionen 'kaldes' med () f.eks. <code>lineær_funktion(1, 2, 0)</code>.</div>"
   ]
  },
  {
   "cell_type": "code",
   "execution_count": 6,
   "id": "cfd8dcbd",
   "metadata": {},
   "outputs": [],
   "source": [
    "def lineær_funktion(x, a, b):\n",
    "    \"\"\"Lineær funktion for curve fitting.\n",
    "\n",
    "    Parametre:\n",
    "    x : Inverse substrat koncentration\n",
    "    a : Hældningskoefficient\n",
    "    b : Skæringspunkt med y-aksen\n",
    "\n",
    "    Returnerer:\n",
    "    Værdien af den lineære funktion for givet x.\n",
    "    \"\"\"\n",
    "    return a * x + b # Opgave: Implementer formlen for den lineære funktion"
   ]
  },
  {
   "cell_type": "markdown",
   "id": "bfd0c2e0",
   "metadata": {},
   "source": [
    "Det er altid en god ide at checke at vi har implemeneret en funktion korrekt, \n",
    "i dette tilfælde kan vi f.eks. checke at disse gælder\n",
    "\n",
    "- Hvis `x = 0` skal `lineær_funktion` give `b`.\n",
    "- Hvis `x = 1` og `b = 0` skal `lineær_funktion` give `a`."
   ]
  },
  {
   "cell_type": "code",
   "execution_count": 7,
   "id": "c3367c8c",
   "metadata": {},
   "outputs": [
    {
     "data": {
      "text/plain": [
       "2"
      ]
     },
     "execution_count": 7,
     "metadata": {},
     "output_type": "execute_result"
    }
   ],
   "source": [
    "# Dette kalder funktionen så beregningen udføres\n",
    "lineær_funktion(x=0, a=1, b=2) # For x = 0 skal funktionen returnere b"
   ]
  },
  {
   "cell_type": "code",
   "execution_count": 8,
   "id": "3b90a869",
   "metadata": {},
   "outputs": [
    {
     "data": {
      "text/plain": [
       "1"
      ]
     },
     "execution_count": 8,
     "metadata": {},
     "output_type": "execute_result"
    }
   ],
   "source": [
    "lineær_funktion(x=1, a=1, b=0) # For x = 1 og b = 0 skal funktionen returnere a"
   ]
  },
  {
   "cell_type": "markdown",
   "id": "f85609e3",
   "metadata": {},
   "source": [
    "Nu har vi funktionen og kan nu bruge den til at fitte med. \n",
    "\n",
    "Vi starter med at trække de relevant kolonner ud af vores datasæt.\n",
    "\n",
    "Den inverse substrat koncentration kan f.eks. trækkes ud med `data[\"Inverse_Substrate\"]`"
   ]
  },
  {
   "cell_type": "code",
   "execution_count": 9,
   "id": "3b40e432",
   "metadata": {},
   "outputs": [],
   "source": [
    "x_data = data['Inverse_Substrate'] # Opgave: Hent invers substrat koncentration\n",
    "y_data = data['Inverse_Velocity']  # Opgave: Hent invers reaktions hastighed"
   ]
  },
  {
   "cell_type": "markdown",
   "id": "6539bf5e",
   "metadata": {},
   "source": [
    "Du kan printe dataen for at se at det er det korrekte"
   ]
  },
  {
   "cell_type": "code",
   "execution_count": 10,
   "id": "4cf09ef6",
   "metadata": {},
   "outputs": [
    {
     "name": "stdout",
     "output_type": "stream",
     "text": [
      "0    10.0\n",
      "1     5.0\n",
      "2     2.0\n",
      "3     1.0\n",
      "4     0.5\n",
      "5     0.2\n",
      "6     0.1\n",
      "Name: Inverse_Substrate, dtype: float64\n"
     ]
    }
   ],
   "source": [
    "print(x_data)"
   ]
  },
  {
   "cell_type": "markdown",
   "id": "d575ff90",
   "metadata": {},
   "source": [
    "Nu kan vi bruge `curve_fit` funktionen til at lave fittet. Syntaksen er \n",
    "\n",
    "`popt, pcov = curve_fit(funktion, x_data, y_data, p0)`\n",
    "\n",
    "Hvor `popt` er en liste af de fundne parametre i samme rækkefølge som i definition af funktionen, og \n",
    "`p0` er et start gæt på hvad parametrene kunne være. \n",
    "\n",
    "I dette tilfælde vælger vi at gætte på at begge parametre er 1 så"
   ]
  },
  {
   "cell_type": "code",
   "execution_count": 11,
   "id": "44b143cb",
   "metadata": {},
   "outputs": [],
   "source": [
    "p0 = (1, 1) # Opgave: Gæt på startværdier for a og b"
   ]
  },
  {
   "cell_type": "code",
   "execution_count": 12,
   "id": "189246bd",
   "metadata": {},
   "outputs": [
    {
     "name": "stdout",
     "output_type": "stream",
     "text": [
      "Hældning: 0.400\n",
      "Skæringspunkt: 0.200\n"
     ]
    }
   ],
   "source": [
    "popt, _ = curve_fit(lineær_funktion, x_data, y_data, p0=p0) # Opgave: Fit data til den lineære funktion\n",
    "a, b = popt\n",
    "print(f'Hældning: {a:.3f}') # Vi bruger 'print' til at udskrive værdier {a:.3f} betyder at vi udskriver a med 3 decimaler\n",
    "print(f'Skæringspunkt: {b:.3f}') # Opgave: Udskriv hældning og skæringspunkt"
   ]
  },
  {
   "cell_type": "markdown",
   "id": "dbb6ead6",
   "metadata": {},
   "source": [
    "<details>\n",
    "    <summary><strong><span style=\"color: lightblue; font-size: 18px;\">💡 Ekstra info</span></strong></summary>\n",
    "    <p> curve_fit funktionen returnere en liste af de fundne parametre værdier, og variansen af dem. Ved at sige <code>popt, _</code> sættes variansen i en dummy variable <code>_</code> som vi ikke bruger.</p>\n",
    "  </details>"
   ]
  },
  {
   "cell_type": "markdown",
   "id": "4f134645",
   "metadata": {},
   "source": [
    "Som vi har hørt i forelæsningen er dette  fit af reciprokke størrelser kendt som \n",
    "Lineweaver–Burk transformationen; \n",
    "\n",
    "\n",
    "\\begin{align*}\n",
    "y &= v  \\\\ \n",
    "&= a x + b \\\\ \n",
    "& = a [S] + b \\\\\n",
    "& = \\frac{K_m}{V_\\mathrm{max}} [S] + \\frac{1}{V_\\mathrm{max}}\n",
    "\\end{align*}\n",
    "\n",
    "\n",
    "Så kan vi bruge de fundne værdier af hældningen og skæringspunktet til at beregne $V_\\mathrm{max}$ og $K_m$.\n",
    "Det kan vises at\n",
    "\n",
    "$$\n",
    "V_{max} = \\frac{1}{b}\n",
    "$$\n",
    "\n",
    "$$\n",
    "K_m = \\frac{a}{b}\n",
    "$$"
   ]
  },
  {
   "cell_type": "code",
   "execution_count": 13,
   "id": "c6517b5d",
   "metadata": {},
   "outputs": [
    {
     "name": "stdout",
     "output_type": "stream",
     "text": [
      "V_max: 5.000 [μM/min]\n",
      "K_m: 2.000 [mM]\n"
     ]
    }
   ],
   "source": [
    "V_max = 1 / b # Opgave: Beregn V_max\n",
    "K_m = a / b   # Opgave: Beregn K_m\n",
    "print(f'V_max: {V_max:.3f} [μM/min]')\n",
    "print(f'K_m: {K_m:.3f} [mM]')"
   ]
  },
  {
   "cell_type": "markdown",
   "id": "9181016d",
   "metadata": {},
   "source": [
    "<div class=\"alert alert-block alert-info\"> <b>Note:</b> Det er altid vigtigt at holde styr på enheder af beregnede størrelser. Fra ligningen \\(v = \\frac{V_{\\mathrm{max}}[S]}{K_m + [S]}\\) kan vi se at enheden \n",
    "af \\(K_m\\) skal være \\(mM\\) og at \\(V_{\\mathrm{max}}\\) har samme enhed som $v$ altså [μM/min].</div>"
   ]
  },
  {
   "cell_type": "markdown",
   "id": "6d55c3e5",
   "metadata": {},
   "source": [
    "Vi kan nu bruge de fundne parametre til at udregne kurven fra vores fit."
   ]
  },
  {
   "cell_type": "code",
   "execution_count": 14,
   "id": "120bd8d6",
   "metadata": {},
   "outputs": [],
   "source": [
    "x_fit = np.linspace(-1, 11, 100) # Dette laver 100 punkter mellem -1 og 11\n",
    "y_fit = lineær_funktion(x_fit, a, b) # Vi bruger den lineære funktion til at beregne y-værdierne for de x-værdier vi har lavet"
   ]
  },
  {
   "cell_type": "markdown",
   "id": "b3e7e677",
   "metadata": {},
   "source": [
    "For at vurdere hvor godt vores fit passer kan vi beregne mean squared error (MSE)\n",
    "fittet og vores data\n",
    "\n",
    "$$\n",
    "\\mathrm{mse} = \\frac{1}{N} \\sum_i (f(x_i) - y_i)^2\n",
    "$$\n",
    "Hvor $f$ er den funktion vi har fittet, $N$ er antallet af data eksempler og $x_i$ og $y_i$ er vores data.\n",
    "Figuren nedenfor illustrerer hvordan MSE kan fortolkes\n",
    "\n",
    "<img src=\"https://images.prismic.io/encord/08ced892-f045-41f7-9007-d1ab3b426159_image7.png?auto=compress,format\" width=\"600\">"
   ]
  },
  {
   "cell_type": "code",
   "execution_count": 15,
   "id": "9296209d",
   "metadata": {},
   "outputs": [
    {
     "name": "stdout",
     "output_type": "stream",
     "text": [
      "Mean Squared Error: 3.4e-16\n"
     ]
    }
   ],
   "source": [
    "mse = np.sqrt(np.mean((lineær_funktion(x_data, a, b) - y_data) ** 2))\n",
    "print(f'Mean Squared Error: {mse:.1e}')"
   ]
  },
  {
   "cell_type": "markdown",
   "id": "d348966b",
   "metadata": {},
   "source": [
    "Du burde få en MSE sammenlignlig med `3.4e-16` som bettyder $3.4 \\times 10^{-16}$, altså et meget lille tal.\n",
    "\n",
    "Nu kan vi plotte vores fit sammen med dataen."
   ]
  },
  {
   "cell_type": "code",
   "execution_count": 16,
   "id": "15f836d5",
   "metadata": {},
   "outputs": [
    {
     "data": {
      "image/png": "[encoded data removed]",
      "text/plain": [
       "<Figure size 350x350 with 1 Axes>"
      ]
     },
     "metadata": {},
     "output_type": "display_data"
    }
   ],
   "source": [
    "fig, ax = plt.subplots(figsize=(3.5, 3.5))\n",
    "\n",
    "# Plot af den fitted lineære funktion\n",
    "ax.plot(x_fit, y_fit, color='red') # Opgave: Plot den fittede funktion\n",
    "\n",
    "# Plot af data -  dette plotter data som cirkler\n",
    "ax.plot(data['Inverse_Substrate'], data['Inverse_Velocity'], 'o')\n",
    "\n",
    "# Sætter en tekstboks med de fittede parametre ind\n",
    "add_textbox(ax, a=a, b=b, V_max=V_max, K_m=K_m, mse=mse)\n",
    "\n",
    "ax.set_xlabel('Invers substrat koncentration [1/mM]')\n",
    "ax.set_ylabel('Invers reaktions hastighed [min/μM]');"
   ]
  },
  {
   "cell_type": "markdown",
   "id": "13cbe4e9",
   "metadata": {},
   "source": [
    "<div class=\"alert alert-block alert-success\"> <b>Takeaway:</b> Vi kan se at det  fit passer meget godt med vores data! Vi kan se det visuelt, linjen gør igennem alle vores data punkter og kvantativt har vi regnet en \n",
    "MSE på størrelses orden \\(1 \\times 10^{-16}\\) (0.0000000000000001) som er på størrelse ordne af den numeriske \n",
    "præcision af Python brugt på denne måde.</div>"
   ]
  },
  {
   "cell_type": "markdown",
   "id": "4f88df70",
   "metadata": {},
   "source": [
    "<details>\n",
    "    <summary><strong><span style=\"color: lightblue; font-size: 18px;\">💡 Ekstra info - Textbox </span></strong></summary>\n",
    "    <p> Hvis du er interesseret kan du se koden for at lave tekstboxen med <code>add_textbox??</code> i en kode celle. \n",
    "    Dette kan gøres for alle funktioner som du gerne vil forstå i mere detalje. </p>\n",
    "  </details>"
   ]
  },
  {
   "cell_type": "markdown",
   "id": "3ebb4b27",
   "metadata": {},
   "source": [
    "### Opgave 2: Michaelis-Menten fit "
   ]
  },
  {
   "cell_type": "markdown",
   "id": "d3de958b",
   "metadata": {},
   "source": [
    "Nu vil vi fitte direkte til Michaelis-Menten ligningen, som igen er givet ved \n",
    "\n",
    "$$\n",
    "v = \\frac{V_{\\mathrm{max}}[S]}{K_m + [S]}\n",
    "$$\n",
    "\n",
    "Vi skal altså finde parametrene $V_\\mathrm{max}$ og $K_m$.\n",
    "\n",
    "Vi starter med at definere en funktion der beregner formlen"
   ]
  },
  {
   "cell_type": "code",
   "execution_count": 17,
   "id": "62cd0e0b",
   "metadata": {},
   "outputs": [],
   "source": [
    "def michaelis_menten(S, V_max, K_m):\n",
    "    return (V_max * S) / (K_m + S) # Opgave: Implementer Michaelis-Menten ligningen"
   ]
  },
  {
   "cell_type": "markdown",
   "id": "598bdc61",
   "metadata": {},
   "source": [
    "Et par ting der skal gælde for funktionen er; \n",
    "\n",
    "- For store værdier af koncentrationen `S` skal reaktions hastigheden være tæt på `V_max`\n",
    "- Når koncentrationen er lig med Michaelis konstanten skal reaktionshastigheden være 1/2 `V_max`.\n",
    "\n",
    "Brug denne information og de to næste celler til at analysere om din funktion er korrekt."
   ]
  },
  {
   "cell_type": "code",
   "execution_count": 18,
   "id": "85239bbb",
   "metadata": {},
   "outputs": [
    {
     "name": "stdout",
     "output_type": "stream",
     "text": [
      "S = 100, V_max = 10, K_m = 1\n",
      "v = 9.90\n"
     ]
    }
   ],
   "source": [
    "v = michaelis_menten(S=100, V_max=10, K_m=1)\n",
    "print('S = 100, V_max = 10, K_m = 1')\n",
    "print(f'v = {v:.2f}') # Skal være tæt på V_max"
   ]
  },
  {
   "cell_type": "code",
   "execution_count": 19,
   "id": "640f9fee",
   "metadata": {},
   "outputs": [
    {
     "name": "stdout",
     "output_type": "stream",
     "text": [
      "S = 0.5, V_max = 10, K_m = 0.5\n",
      "v = 5.00\n"
     ]
    }
   ],
   "source": [
    "v = michaelis_menten(S=0.5, V_max=10, K_m=0.5)\n",
    "print('S = 0.5, V_max = 10, K_m = 0.5')\n",
    "print(f'v = {v:.2f}') # Skal være tæt på 1/2 V_max"
   ]
  },
  {
   "cell_type": "markdown",
   "id": "fce7eb61",
   "metadata": {},
   "source": [
    "Når du er tilfreds kan du gå videre til at lave fittet\n",
    "\n",
    "Først skal vi hente den afhængige og uafhængige variable fra vores datasæt"
   ]
  },
  {
   "cell_type": "code",
   "execution_count": 20,
   "id": "cf95595d",
   "metadata": {},
   "outputs": [],
   "source": [
    "x_data = data['Substrate_Concentration'] # Opgave: Hent substrat koncentration\n",
    "y_data = data['Reaction_Velocity']  # Opgave: Hent reaktions hastighed"
   ]
  },
  {
   "cell_type": "markdown",
   "id": "156c5e91",
   "metadata": {},
   "source": [
    "Nu har vi tre ting\n",
    "- x: Den uafhængige variable\n",
    "- y: Den afhængige variable\n",
    "- En funktion \n",
    "\n",
    "Så vi mangler bare et start gæt på værdierne af $V_\\mathrm{max}$ og $K_m$, som før vælger vi at sætte dem til 1."
   ]
  },
  {
   "cell_type": "code",
   "execution_count": 21,
   "id": "cbe0cc1f",
   "metadata": {},
   "outputs": [],
   "source": [
    "p0 = (1, 1) # Start værider for V_max og Km"
   ]
  },
  {
   "cell_type": "markdown",
   "id": "fc3155e4",
   "metadata": {},
   "source": [
    "Nu er vi klar til at lave fittet. \n",
    "\n",
    "Brug i cellen nedenfor `curve_fit` og træk de to parametere ud i hver deres variable `V_max` og `K_m`.\n",
    "\n",
    "<details>\n",
    "    <summary><strong><span style=\"color: lightblue; font-size: 18px;\">💡 Hint 1 </p></strong></summary>\n",
    "    Husk at <code>curve_fit</code> returnere to ting en liste <code>popt</code> og <code>pcov</code> som vi ikke skal bruge.\n",
    "  </details>\n",
    "\n",
    "<details>\n",
    "    <summary><strong><span style=\"color: lightblue; font-size: 18px;\">💡 Hint 2 </p></strong></summary>\n",
    "    Husk at du skal give 4 argumenter til <code>curve_fit</code> og at rækkefølgen skal være rigtig.    \n",
    "  </details>\n",
    "\n",
    "<details>\n",
    "    <summary><strong><span style=\"color: lightblue; font-size: 18px;\">💡 Hint 3 </p></strong></summary>\n",
    "    Parameterne returneres <code></code> som en liste af tal i samme rækkefølge som de er brugt i funktionen <code>michaelis_menten</code>. Hvis du gemmer den i en variable <code>popt</code> kan du indeksere for at trække \n",
    "    hvert enkelt ud <code>V_max = popt[0]</code>\n",
    "  </details>\n"
   ]
  },
  {
   "cell_type": "code",
   "execution_count": 22,
   "id": "69de4333",
   "metadata": {},
   "outputs": [],
   "source": [
    "(V_max, K_m), _ = curve_fit(michaelis_menten, x_data, y_data, p0=p0)"
   ]
  },
  {
   "cell_type": "code",
   "execution_count": 23,
   "id": "22e7e9a2",
   "metadata": {},
   "outputs": [
    {
     "name": "stdout",
     "output_type": "stream",
     "text": [
      "V_max: 5.0\n",
      "K_m: 2.0\n"
     ]
    }
   ],
   "source": [
    "print(f'V_max: {V_max}')\n",
    "print(f'K_m: {K_m}')"
   ]
  },
  {
   "cell_type": "markdown",
   "id": "3fa165e9",
   "metadata": {},
   "source": [
    "Ligesom med det linære fit kan vi nu regne funktionen med de fittede parametre og bruge \n",
    "disse til at udregne MSE og lavet et plot"
   ]
  },
  {
   "cell_type": "code",
   "execution_count": 24,
   "id": "d3416bf2",
   "metadata": {},
   "outputs": [],
   "source": [
    "x_fit = np.linspace(0, data['Substrate_Concentration'].max(), 100) # Laver 100 punkter mellem 0 og den maksimale substrat koncentration\n",
    "y_fit = michaelis_menten(x_fit, V_max, K_m)"
   ]
  },
  {
   "cell_type": "markdown",
   "id": "8b48da14",
   "metadata": {},
   "source": [
    "Vi regner MSE på samme måde, ved at sammenligne beregne funktions-værdier med data."
   ]
  },
  {
   "cell_type": "code",
   "execution_count": 25,
   "id": "02ebf111",
   "metadata": {},
   "outputs": [
    {
     "name": "stdout",
     "output_type": "stream",
     "text": [
      "Mean Squared Error: 3.8e-17\n"
     ]
    }
   ],
   "source": [
    "mse = np.sqrt(np.mean((michaelis_menten(x_data, V_max, K_m) - y_data) ** 2))\n",
    "print(f'Mean Squared Error: {mse:.1e}')"
   ]
  },
  {
   "cell_type": "markdown",
   "id": "dd9b8df4",
   "metadata": {},
   "source": [
    "Og endeligt kan vi plotte vores fit"
   ]
  },
  {
   "cell_type": "code",
   "execution_count": 26,
   "id": "e8439292",
   "metadata": {},
   "outputs": [
    {
     "data": {
      "text/plain": [
       "(-0.5, 10.5)"
      ]
     },
     "execution_count": 26,
     "metadata": {},
     "output_type": "execute_result"
    },
    {
     "data": {
      "image/png": "[encoded data removed]",
      "text/plain": [
       "<Figure size 400x400 with 1 Axes>"
      ]
     },
     "metadata": {},
     "output_type": "display_data"
    }
   ],
   "source": [
    "fig, ax = plt.subplots(figsize=(4, 4))\n",
    "ax.plot(data['Substrate_Concentration'], data['Reaction_Velocity'], 'o')\n",
    "ax.plot(x_fit, y_fit, label='Fitted Michaelis-Menten funktion', color='red')\n",
    "\n",
    "add_textbox(ax, V_max=V_max, K_m=K_m, mse=mse)\n",
    "\n",
    "ax.set_xlabel('Substrat koncentration [mM]')\n",
    "ax.set_ylabel('Reaktions hastighed [μM/min]')\n",
    "ax.set_xlim(0-0.5, x_fit.max()+0.5)"
   ]
  },
  {
   "cell_type": "markdown",
   "id": "6cdc5ea0",
   "metadata": {},
   "source": [
    "<div class=\"alert alert-block alert-success\"> <b>Takeaway:</b> Vi får igen et rigtig godt fit med en meget lille MSE, \n",
    "og de fundne værdier af \\(V_\\mathrm{max}\\) og \\(K_m\\) er de samme som vi fandt med det linære fit. </div>"
   ]
  },
  {
   "cell_type": "markdown",
   "id": "024428a5",
   "metadata": {},
   "source": [
    "# Opsamling\n",
    "\n",
    "Vi har studeret Michaelis-Menten kinetik og lært at bruge Python til at fitte Michalis-Menten ligningen \n",
    "til et datasæt. \n",
    "\n",
    "Samme procedure kan bruges til at fitte andre former for ligninger til mange andre datasæt! \n",
    "\n",
    "Husk at skridtene til at fitte en ligning er\n",
    "\n",
    "1. Definer en Python funktion for den ligninger der skal fittes med. \n",
    "2. Specifere det data der skal bruges, både `x` og `y`-værdier. \n",
    "3. Vælg et start gæt for de parametre der fittes `p0`.\n",
    "3. Brug `curve_fit` til at få de fittede parametre. "
   ]
  },
  {
   "cell_type": "code",
   "execution_count": 2,
   "id": "9b40afe7",
   "metadata": {},
   "outputs": [
    {
     "data": {
      "text/html": [
       "<div id=\"udJIahLSGIHS\" data-shufflequestions=\"False\" data-shuffleanswers=\"True\" data-preserveresponses=\"false\" data-numquestions=\"1000000\" data-maxwidth=\"600\" style=\"border-radius: 10px; text-align: left\"><style>\n",
       "#udJIahLSGIHS {\n",
       "   --jq-multiple-choice-bg: #6f78ffff;\n",
       "   --jq-mc-button-bg: #fafafa;\n",
       "   --jq-mc-button-border: #e0e0e0e0;\n",
       "   --jq-mc-button-inset-shadow: #555555;\n",
       "   --jq-many-choice-bg: #f75c03ff;\n",
       "   --jq-numeric-bg: #392061ff;\n",
       "   --jq-numeric-input-bg: #c0c0c0;\n",
       "   --jq-numeric-input-label: #101010;\n",
       "   --jq-numeric-input-shadow: #999999;\n",
       "   --jq-string-bg: #4c1a57;\n",
       "   --jq-incorrect-color: #c80202;\n",
       "   --jq-correct-color: #009113;\n",
       "   --jq-text-color: #fafafa;\n",
       "}\n",
       "\n",
       ".Quiz {\n",
       "    max-width: 600px;\n",
       "    margin-top: 15px;\n",
       "    margin-left: auto;\n",
       "    margin-right: auto;\n",
       "/*    margin-bottom: 15px;*/\n",
       "/*    padding-bottom: 4px;*/\n",
       "    padding-top: 4px;\n",
       "    line-height: 1.1;\n",
       "    font-size: 16pt;\n",
       "    border-radius: inherit;\n",
       "}\n",
       "\n",
       ".QuizCode {\n",
       "    font-size: 14pt;\n",
       "    margin-top: 10px;\n",
       "    margin-left: 20px;\n",
       "    margin-right: 20px;\n",
       "}\n",
       "\n",
       ".QuizCode>pre {\n",
       "    padding: 4px;\n",
       "}\n",
       "\n",
       ".Quiz code {\n",
       "    background-color: lightgray;\n",
       "    color: black;\n",
       "}\n",
       "\n",
       ".Quiz .QuizCode code {\n",
       "    background-color: inherit;\n",
       "    color: inherit;\n",
       "}\n",
       "\n",
       "\n",
       ".Quiz .MCButton code {\n",
       "    background-color: inherit;\n",
       "    color: inherit;\n",
       "}\n",
       "\n",
       ".MCButton .QuizCode {\n",
       "    text-align: left;\n",
       "}\n",
       "\n",
       "\n",
       "\n",
       "\n",
       ".Answer {\n",
       "    border-radius: inherit;\n",
       "    display: grid;\n",
       "    grid-gap: 10px;\n",
       "    grid-template-columns: 1fr 1fr;\n",
       "    margin: 10px 0;\n",
       "}\n",
       "\n",
       "@media only screen and (max-width:480px) {\n",
       "    .Answer {\n",
       "        grid-template-columns: 1fr;\n",
       "    }\n",
       "\n",
       "}\n",
       "\n",
       ".Feedback {\n",
       "    font-size: 16pt;\n",
       "    text-align: center;\n",
       "/*    min-height: 2em;*/\n",
       "}\n",
       "\n",
       ".Input {\n",
       "    align: left;\n",
       "    font-size: 20pt;\n",
       "}\n",
       "\n",
       ".Input-text {\n",
       "    display: block;\n",
       "    margin: 10px;\n",
       "    color: inherit;\n",
       "    width: unset;\n",
       "    min-width: 140px;\n",
       "    max-width: 93%;\n",
       "    field-sizing: content;\n",
       "    background-color: var(--jq-numeric-input-bg);\n",
       "    color: var(--jq-text-color);\n",
       "    padding: 5px;\n",
       "    padding-left: 10px;\n",
       "    font-family: inherit;\n",
       "    font-size: 20px;\n",
       "    font-weight: inherit;\n",
       "    line-height: 20pt;\n",
       "    border: none;\n",
       "    border-radius: 0.2rem;\n",
       "    transition: box-shadow 0.1s);\n",
       "}\n",
       "\n",
       ".Input-text:focus {\n",
       "    /*outline: none;*/\n",
       "    background-color: var(--jq-numeric-input-bg);\n",
       "    box-shadow: 0.6rem 0.8rem 1.4rem -0.5rem var(--jq-numeric-input-shadow);\n",
       "}\n",
       "\n",
       ".MCButton {\n",
       "    background: var(--jq-mc-button-bg);\n",
       "    border: 1px solid var(--jq-mc-button-border);\n",
       "    border-radius: inherit;\n",
       "    color: #333333;\n",
       "    padding: 10px;\n",
       "    font-size: 16px;\n",
       "    cursor: pointer;\n",
       "    text-align: center;\n",
       "    display: flex;\n",
       "    align-items: center;\n",
       "    justify-content: center;\n",
       "}\n",
       "\n",
       ".MCButton p {\n",
       "    color: inherit;\n",
       "}\n",
       "\n",
       ".MultipleChoiceQn {\n",
       "    padding: 10px;\n",
       "    background: var(--jq-multiple-choice-bg);\n",
       "    color: var(--jq-text-color);\n",
       "    border-radius: inherit;\n",
       "}\n",
       "\n",
       ".ManyChoiceQn {\n",
       "    padding: 10px;\n",
       "    background: var(--jq-many-choice-bg);\n",
       "    color: var(--jq-text-color);\n",
       "    border-radius: inherit;\n",
       "}\n",
       "\n",
       ".NumericQn {\n",
       "    background: var(--jq-numeric-bg);\n",
       "    border-radius: inherit;\n",
       "    color: var(--jq-text-color);\n",
       "    padding: 10px;\n",
       "}\n",
       "\n",
       ".NumericQn p {\n",
       "    color: inherit;\n",
       "}\n",
       "\n",
       ".StringQn {\n",
       "    background: var(--jq-string-bg);\n",
       "    border-radius: inherit;\n",
       "    color: var(--jq-text-color);\n",
       "    padding: 10px;\n",
       "}\n",
       "\n",
       ".StringQn p {\n",
       "    color: inherit;\n",
       "}\n",
       "\n",
       "\n",
       ".InpLabel {\n",
       "    color: var(--jq-numeric-input-label);\n",
       "    float: left;\n",
       "    font-size: 15pt;\n",
       "    line-height: 34px;\n",
       "    margin-right: 10px;\n",
       "}\n",
       "\n",
       ".incorrect {\n",
       "    color: var(--jq-incorrect-color);\n",
       "}\n",
       "\n",
       ".correct {\n",
       "    color: var(--jq-correct-color);\n",
       "}\n",
       "\n",
       ".correctButton {\n",
       "    /*\n",
       "    background: var(--jq-correct-color);\n",
       "   */\n",
       "    animation: correct-anim 0.6s ease;\n",
       "    animation-fill-mode: forwards;\n",
       "    box-shadow: inset 0 0 5px var(--jq-mc-button-inset-shadow);\n",
       "    color: var(--jq-text-color);\n",
       "    /*outline: none;*/\n",
       "}\n",
       "\n",
       ".incorrectButton {\n",
       "    animation: incorrect-anim 0.8s ease;\n",
       "    animation-fill-mode: forwards;\n",
       "    box-shadow: inset 0 0 5px var(--jq-mc-button-inset-shadow);\n",
       "    color: var(--jq-text-color);\n",
       "    /*outline: none;*/\n",
       "}\n",
       "\n",
       "@keyframes incorrect-anim {\n",
       "    100% {\n",
       "        background-color: var(--jq-incorrect-color);\n",
       "    }\n",
       "}\n",
       "\n",
       "@keyframes correct-anim {\n",
       "    100% {\n",
       "        background-color: var(--jq-correct-color);\n",
       "    }\n",
       "}\n",
       "</style>"
      ],
      "text/plain": [
       "<IPython.core.display.HTML object>"
      ]
     },
     "metadata": {},
     "output_type": "display_data"
    },
    {
     "data": {
      "application/javascript": "var questionsudJIahLSGIHS=[{\"question\": \"What does Michaelis-Menten kinetics describe?\", \"type\": \"multiple_choice\", \"answers\": [{\"answer\": \"The rate of enzyme-catalyzed reactions\", \"correct\": true, \"feedback\": \"Correct!\"}, {\"answer\": \"The binding of substrates to enzymes\", \"correct\": false, \"feedback\": \"Incorrect. This is related but not what Michaelis-Menten kinetics describes.\"}, {\"answer\": \"The effect of pH on enzyme activity\", \"correct\": false, \"feedback\": \"Incorrect. This is a different aspect of enzyme behavior.\"}]}, {\"question\": \"What is the primary assumption of Michaelis-Menten kinetics?\", \"type\": \"multiple_choice\", \"answers\": [{\"answer\": \"Enzymes form a complex with substrates\", \"correct\": true, \"feedback\": \"Correct!\"}, {\"answer\": \"Substrate concentration is much higher than enzyme concentration\", \"correct\": false, \"feedback\": \"Incorrect. This is a condition for the model but not the primary assumption.\"}, {\"answer\": \"The reaction is at equilibrium\", \"correct\": false, \"feedback\": \"Incorrect. Michaelis-Menten kinetics applies to non-equilibrium conditions.\"}]}, {\"question\": \"What is required to fit a function with Python?\", \"type\": \"many_choice\", \"answers\": [{\"answer\": \"A dataset with input-output pairs\", \"correct\": true, \"feedback\": \"Correct!\"}, {\"answer\": \"A function definition of the underlying model\", \"correct\": true, \"feedback\": \"Correct!\"}, {\"answer\": \"An initial guess of the model parameters\", \"correct\": true, \"feedback\": \"Correct!\"}, {\"answer\": \"A difficult optimization problem\", \"correct\": false, \"feedback\": \"Incorrect. While fitting can be challenging, it's not strictly a requirement.\"}]}];\n\nif (typeof Question === 'undefined') {\n// Make a random ID\nfunction makeid(length) {\n    var result = [];\n    var characters = 'ABCDEFGHIJKLMNOPQRSTUVWXYZabcdefghijklmnopqrstuvwxyz';\n    var charactersLength = characters.length;\n    for (var i = 0; i < length; i++) {\n        result.push(characters.charAt(Math.floor(Math.random() * charactersLength)));\n    }\n    return result.join('');\n}\n// Convert LaTeX delimiters and markdown links to HTML\nfunction jaxify(string) {\n    let mystring = string;\n    let count = 0, count2 = 0;\n    let loc = mystring.search(/([^\\\\]|^)(\\$)/);\n    let loc2 = mystring.search(/([^\\\\]|^)(\\$\\$)/);\n    while (loc >= 0 || loc2 >= 0) {\n        if (loc2 >= 0) {\n            mystring = mystring.replace(/([^\\\\]|^)(\\$\\$)/, count2 % 2 ? '$1\\\\]' : '$1\\\\[');\n            count2++;\n        } else {\n            mystring = mystring.replace(/([^\\\\]|^)(\\$)/, count % 2 ? '$1\\\\)' : '$1\\\\(');\n            count++;\n        }\n        loc = mystring.search(/([^\\\\]|^)(\\$)/);\n        loc2 = mystring.search(/([^\\\\]|^)(\\$\\$)/);\n    }\n    // Replace markdown links\n    mystring = mystring.replace(/<http(.*?)>/g, '<a href=\"http$1\" target=\"_blank\" class=\"Link\">http$1</a>');\n    mystring = mystring.replace(/\\[(.*?)\\]\\((.*?)\\)/g, '<a href=\"$2\" target=\"_blank\" class=\"Link\">$1</a>');\n    return mystring;\n}\n\n// Base class for question types\nclass Question {\n    static registry = {};\n    static register(type, cls) {\n        Question.registry[type] = cls;\n    }\n    static create(qa, id, index, options, rootDiv) {\n        const Cls = Question.registry[qa.type];\n        if (!Cls) {\n            console.error(`No question class registered for type \"${qa.type}\"`);\n            return;\n        }\n        const q = new Cls(qa, id, index, options, rootDiv);\n        q.render();\n    }\n\n    constructor(qa, id, index, options, rootDiv) {\n        this.qa = qa;\n        this.id = id;\n        this.index = index;\n        this.options = options;\n        this.rootDiv = rootDiv;\n        // wrapper\n        this.wrapper = document.createElement('div');\n        this.wrapper.id = `quizWrap${id}`;\n        this.wrapper.className = 'Quiz';\n        this.wrapper.dataset.qnum = index;\n        this.wrapper.style.maxWidth = `${options.maxWidth}px`;\n        rootDiv.appendChild(this.wrapper);\n        // question container\n        this.outerqDiv = document.createElement('div');\n        this.outerqDiv.id = `OuterquizQn${id}${index}`;\n        this.wrapper.appendChild(this.outerqDiv);\n        // question text\n        this.qDiv = document.createElement('div');\n        this.qDiv.id = `quizQn${id}${index}`;\n        if (qa.question) {\n            this.qDiv.innerHTML = jaxify(qa.question);\n            this.outerqDiv.appendChild(this.qDiv);\n        }\n        // code block\n        if (qa.code) {\n            const codeDiv = document.createElement('div');\n            codeDiv.id = `code${id}${index}`;\n            codeDiv.className = 'QuizCode';\n            const pre = document.createElement('pre');\n            const codeEl = document.createElement('code');\n            codeEl.innerHTML = qa.code;\n            pre.appendChild(codeEl);\n            codeDiv.appendChild(pre);\n            this.outerqDiv.appendChild(codeDiv);\n        }\n        // answer container\n        this.aDiv = document.createElement('div');\n        this.aDiv.id = `quizAns${id}${index}`;\n        this.aDiv.className = 'Answer';\n        this.wrapper.appendChild(this.aDiv);\n        // feedback container (append after answers)\n        this.fbDiv = document.createElement('div');\n        this.fbDiv.id = `fb${id}`;\n        this.fbDiv.className = 'Feedback';\n        this.fbDiv.dataset.answeredcorrect = 0;\n    }\n\n    render() {\n        throw new Error('render() not implemented');\n    }\n\n    preserveResponse(val) {\n        if (!this.options.preserveResponses) return;\n        const resp = document.getElementById(`responses${this.rootDiv.id}`);\n        if (!resp) return;\n        const arr = JSON.parse(resp.dataset.responses);\n        arr[this.index] = val;\n        resp.dataset.responses = JSON.stringify(arr);\n        printResponses(resp);\n    }\n\n    typeset(container) {\n        if (typeof MathJax !== 'undefined') {\n            const v = MathJax.version;\n            if (v[0] === '2') {\n                MathJax.Hub.Queue(['Typeset', MathJax.Hub]);\n            } else {\n                MathJax.typeset([container]);\n            }\n        }\n    }\n}\n\n// Choose a random subset of an array. Can also be used to shuffle the array\nfunction getRandomSubarray(arr, size) {\n    var shuffled = arr.slice(0), i = arr.length, temp, index;\n    while (i--) {\n        index = Math.floor((i + 1) * Math.random());\n        temp = shuffled[index];\n        shuffled[index] = shuffled[i];\n        shuffled[i] = temp;\n    }\n    return shuffled.slice(0, size);\n}\n\nfunction printResponses(responsesContainer) {\n    var responses=JSON.parse(responsesContainer.dataset.responses);\n    var stringResponses='<B>IMPORTANT!</B>To preserve this answer sequence for submission, when you have finalized your answers: <ol> <li> Copy the text in this cell below \"Answer String\"</li> <li> Double click on the cell directly below the Answer String, labeled \"Replace Me\"</li> <li> Select the whole \"Replace Me\" text</li> <li> Paste in your answer string and press shift-Enter.</li><li>Save the notebook using the save icon or File->Save Notebook menu item</li></ul><br><br><br><b>Answer String:</b><br> ';\n    console.log(responses);\n    responses.forEach((response, index) => {\n        if (response) {\n            console.log(index + ': ' + response);\n            stringResponses+= index + ': ' + response +\"<BR>\";\n        }\n    });\n    responsesContainer.innerHTML=stringResponses;\n}\n/* Callback function to determine whether a selected multiple-choice\n   button corresponded to a correct answer and to provide feedback\n   based on the answer */\nfunction check_mc() {\n    var id = this.id.split('-')[0];\n    //var response = this.id.split('-')[1];\n    //console.log(response);\n    //console.log(\"In check_mc(), id=\"+id);\n    //console.log(event.srcElement.id)           \n    //console.log(event.srcElement.dataset.correct)   \n    //console.log(event.srcElement.dataset.feedback)\n\n    var label = event.srcElement;\n    //console.log(label, label.nodeName);\n    var depth = 0;\n    while ((label.nodeName != \"LABEL\") && (depth < 20)) {\n        label = label.parentElement;\n        console.log(depth, label);\n        depth++;\n    }\n\n\n\n    var answers = label.parentElement.children;\n    //console.log(answers);\n\n    // Split behavior based on multiple choice vs many choice:\n    var fb = document.getElementById(\"fb\" + id);\n\n\n\n    /* Multiple choice (1 answer). Allow for 0 correct\n       answers as an edge case */\n    if (fb.dataset.numcorrect <= 1) {\n        // What follows is for the saved responses stuff\n        var outerContainer = fb.parentElement.parentElement;\n        var responsesContainer = document.getElementById(\"responses\" + outerContainer.id);\n        if (responsesContainer) {\n            //console.log(responsesContainer);\n            var response = label.firstChild.innerText;\n            if (label.querySelector(\".QuizCode\")){\n                response+= label.querySelector(\".QuizCode\").firstChild.innerText;\n            }\n            console.log(response);\n            //console.log(document.getElementById(\"quizWrap\"+id));\n            var qnum = document.getElementById(\"quizWrap\"+id).dataset.qnum;\n            console.log(\"Question \" + qnum);\n            //console.log(id, \", got numcorrect=\",fb.dataset.numcorrect);\n            var responses=JSON.parse(responsesContainer.dataset.responses);\n            console.log(responses);\n            responses[qnum]= response;\n            responsesContainer.setAttribute('data-responses', JSON.stringify(responses));\n            printResponses(responsesContainer);\n        }\n        // End code to preserve responses\n\n        for (var i = 0; i < answers.length; i++) {\n            var child = answers[i];\n            //console.log(child);\n            child.className = \"MCButton\";\n        }\n\n\n\n        if (label.dataset.correct == \"true\") {\n            // console.log(\"Correct action\");\n            if (\"feedback\" in label.dataset) {\n                fb.innerHTML = jaxify(label.dataset.feedback);\n            } else {\n                fb.innerHTML = \"Correct!\";\n            }\n            label.classList.add(\"correctButton\");\n\n            fb.className = \"Feedback\";\n            fb.classList.add(\"correct\");\n\n        } else {\n            if (\"feedback\" in label.dataset) {\n                fb.innerHTML = jaxify(label.dataset.feedback);\n            } else {\n                fb.innerHTML = \"Incorrect -- try again.\";\n            }\n            //console.log(\"Error action\");\n            label.classList.add(\"incorrectButton\");\n            fb.className = \"Feedback\";\n            fb.classList.add(\"incorrect\");\n        }\n    }\n    else { /* Many choice (more than 1 correct answer) */\n        var reset = false;\n        var feedback;\n         if (label.dataset.correct == \"true\") {\n            if (\"feedback\" in label.dataset) {\n                feedback = jaxify(label.dataset.feedback);\n            } else {\n                feedback = \"Correct!\";\n            }\n            if (label.dataset.answered <= 0) {\n                if (fb.dataset.answeredcorrect < 0) {\n                    fb.dataset.answeredcorrect = 1;\n                    reset = true;\n                } else {\n                    fb.dataset.answeredcorrect++;\n                }\n                if (reset) {\n                    for (var i = 0; i < answers.length; i++) {\n                        var child = answers[i];\n                        child.className = \"MCButton\";\n                        child.dataset.answered = 0;\n                    }\n                }\n                label.classList.add(\"correctButton\");\n                label.dataset.answered = 1;\n                fb.className = \"Feedback\";\n                fb.classList.add(\"correct\");\n\n            }\n        } else {\n            if (\"feedback\" in label.dataset) {\n                feedback = jaxify(label.dataset.feedback);\n            } else {\n                feedback = \"Incorrect -- try again.\";\n            }\n            if (fb.dataset.answeredcorrect > 0) {\n                fb.dataset.answeredcorrect = -1;\n                reset = true;\n            } else {\n                fb.dataset.answeredcorrect--;\n            }\n\n            if (reset) {\n                for (var i = 0; i < answers.length; i++) {\n                    var child = answers[i];\n                    child.className = \"MCButton\";\n                    child.dataset.answered = 0;\n                }\n            }\n            label.classList.add(\"incorrectButton\");\n            fb.className = \"Feedback\";\n            fb.classList.add(\"incorrect\");\n        }\n        // What follows is for the saved responses stuff\n        var outerContainer = fb.parentElement.parentElement;\n        var responsesContainer = document.getElementById(\"responses\" + outerContainer.id);\n        if (responsesContainer) {\n            //console.log(responsesContainer);\n            var response = label.firstChild.innerText;\n            if (label.querySelector(\".QuizCode\")){\n                response+= label.querySelector(\".QuizCode\").firstChild.innerText;\n            }\n            console.log(response);\n            //console.log(document.getElementById(\"quizWrap\"+id));\n            var qnum = document.getElementById(\"quizWrap\"+id).dataset.qnum;\n            console.log(\"Question \" + qnum);\n            //console.log(id, \", got numcorrect=\",fb.dataset.numcorrect);\n            var responses=JSON.parse(responsesContainer.dataset.responses);\n            if (label.dataset.correct == \"true\") {\n                if (typeof(responses[qnum]) == \"object\"){\n                    if (!responses[qnum].includes(response))\n                        responses[qnum].push(response);\n                } else{\n                    responses[qnum]= [ response ];\n                }\n            } else {\n                responses[qnum]= response;\n            }\n            console.log(responses);\n            responsesContainer.setAttribute('data-responses', JSON.stringify(responses));\n            printResponses(responsesContainer);\n        }\n        // End save responses stuff\n\n\n\n        var numcorrect = fb.dataset.numcorrect;\n        var answeredcorrect = fb.dataset.answeredcorrect;\n        if (answeredcorrect >= 0) {\n            fb.innerHTML = feedback + \" [\" + answeredcorrect + \"/\" + numcorrect + \"]\";\n        } else {\n            fb.innerHTML = feedback + \" [\" + 0 + \"/\" + numcorrect + \"]\";\n        }\n\n\n    }\n\n    if (typeof MathJax != 'undefined') {\n        var version = MathJax.version;\n        console.log('MathJax version', version);\n        if (version[0] == \"2\") {\n            MathJax.Hub.Queue([\"Typeset\", MathJax.Hub]);\n        } else if (version[0] == \"3\") {\n            MathJax.typeset([fb]);\n        }\n    } else {\n        console.log('MathJax not detected');\n    }\n\n}\n\n\n/* Function to produce the HTML buttons for a multiple choice/\n   many choice question  and to update the CSS tags based on\n   the question type */\nfunction make_mc(qa, shuffle_answers, outerqDiv, qDiv, aDiv, id) {\n\n    var shuffled;\n    if (shuffle_answers == true) {\n        //console.log(shuffle_answers+\" read as true\");\n        shuffled = getRandomSubarray(qa.answers, qa.answers.length);\n    } else {\n        //console.log(shuffle_answers+\" read as false\");\n        shuffled = qa.answers;\n    }\n\n\n    var num_correct = 0;\n\n    shuffled.forEach((item, index, ans_array) => {\n        //console.log(answer);\n\n        // Make input element\n        var inp = document.createElement(\"input\");\n        inp.type = \"radio\";\n        inp.id = \"quizo\" + id + index;\n        inp.style = \"display:none;\";\n        aDiv.append(inp);\n\n        //Make label for input element\n        var lab = document.createElement(\"label\");\n        lab.className = \"MCButton\";\n        lab.id = id + '-' + index;\n        lab.onclick = check_mc;\n        var aSpan = document.createElement('span');\n        aSpan.classsName = \"\";\n        //qDiv.id=\"quizQn\"+id+index;\n        if (\"answer\" in item) {\n            aSpan.innerHTML = jaxify(item.answer);\n            //aSpan.innerHTML=item.answer;\n        }\n        lab.append(aSpan);\n\n        // Create div for code inside question\n        var codeSpan;\n        if (\"code\" in item) {\n            codeSpan = document.createElement('span');\n            codeSpan.id = \"code\" + id + index;\n            codeSpan.className = \"QuizCode\";\n            var codePre = document.createElement('pre');\n            codeSpan.append(codePre);\n            var codeCode = document.createElement('code');\n            codePre.append(codeCode);\n            codeCode.innerHTML = item.code;\n            lab.append(codeSpan);\n            //console.log(codeSpan);\n        }\n\n        //lab.textContent=item.answer;\n\n        // Set the data attributes for the answer\n        lab.setAttribute('data-correct', item.correct);\n        if (item.correct) {\n            num_correct++;\n        }\n        if (\"feedback\" in item) {\n            lab.setAttribute('data-feedback', item.feedback);\n        }\n        lab.setAttribute('data-answered', 0);\n\n        aDiv.append(lab);\n\n    });\n\n    if (num_correct > 1) {\n        outerqDiv.className = \"ManyChoiceQn\";\n    } else {\n        outerqDiv.className = \"MultipleChoiceQn\";\n    }\n\n    return num_correct;\n\n}\n// Object-oriented wrapper for MC/MANY choice\nclass MCQuestion extends Question {\n    constructor(qa, id, idx, opts, rootDiv) { super(qa, id, idx, opts, rootDiv); }\n    render() {\n        //console.log(\"options.shuffleAnswers \" + this.options.shuffleAnswers);\n        const numCorrect = make_mc(\n            this.qa,\n            this.options.shuffleAnswers,\n            this.outerqDiv,\n            this.qDiv,\n            this.aDiv,\n            this.id\n        );\n        if ('answer_cols' in this.qa) {\n            this.aDiv.style.gridTemplateColumns =\n                'repeat(' + this.qa.answer_cols + ', 1fr)';\n        }\n        this.fbDiv.dataset.numcorrect = numCorrect;\n        this.wrapper.appendChild(this.fbDiv);\n    }\n}\nQuestion.register('multiple_choice', MCQuestion);\nQuestion.register('many_choice', MCQuestion);\nfunction check_numeric(ths, event) {\n\n    if (event.keyCode === 13) {\n        ths.blur();\n\n        var id = ths.id.split('-')[0];\n\n        var submission = ths.value;\n        if (submission.indexOf('/') != -1) {\n            var sub_parts = submission.split('/');\n            //console.log(sub_parts);\n            submission = sub_parts[0] / sub_parts[1];\n        }\n        //console.log(\"Reader entered\", submission);\n\n        if (\"precision\" in ths.dataset) {\n            var precision = ths.dataset.precision;\n            submission = Number(Number(submission).toPrecision(precision));\n        }\n\n\n        //console.log(\"In check_numeric(), id=\"+id);\n        //console.log(event.srcElement.id)           \n        //console.log(event.srcElement.dataset.feedback)\n\n        var fb = document.getElementById(\"fb\" + id);\n        fb.style.display = \"none\";\n        fb.innerHTML = \"Incorrect -- try again.\";\n\n        var answers = JSON.parse(ths.dataset.answers);\n        //console.log(answers);\n\n        var defaultFB = \"Incorrect. Try again.\";\n        var correct;\n        var done = false;\n        answers.every(answer => {\n            //console.log(answer.type);\n\n            correct = false;\n            // if (answer.type==\"value\"){\n            if ('value' in answer) {\n                var value;\n                if (\"precision\" in ths.dataset) {\n                    value = answer.value.toPrecision(ths.dataset.precision);\n                } else {\n                    value = answer.value;\n                }\n                if (submission == value) {\n                    if (\"feedback\" in answer) {\n                        fb.innerHTML = jaxify(answer.feedback);\n                    } else {\n                        fb.innerHTML = jaxify(\"Correct\");\n                    }\n                    correct = answer.correct;\n                    //console.log(answer.correct);\n                    done = true;\n                }\n\n                // } else if (answer.type==\"range\") {\n            } else if ('range' in answer) {\n                console.log(answer.range);\n                console.log(submission, submission >=answer.range[0], submission < answer.range[1])\n                if ((submission >= answer.range[0]) && (submission < answer.range[1])) {\n                    fb.innerHTML = jaxify(answer.feedback);\n                    correct = answer.correct;\n                    console.log(answer.correct);\n                    done = true;\n                }\n            } else if (answer.type == \"default\") {\n                if (\"feedback\" in answer) {\n                    defaultFB = answer.feedback;\n                } \n            }\n            if (done) {\n                return false; // Break out of loop if this has been marked correct\n            } else {\n                return true; // Keep looking for case that includes this as a correct answer\n            }\n        });\n        console.log(\"done:\", done);\n\n        if ((!done) && (defaultFB != \"\")) {\n            fb.innerHTML = jaxify(defaultFB);\n            //console.log(\"Default feedback\", defaultFB);\n        }\n\n        fb.style.display = \"block\";\n        if (correct) {\n            ths.className = \"Input-text\";\n            ths.classList.add(\"correctButton\");\n            fb.className = \"Feedback\";\n            fb.classList.add(\"correct\");\n        } else {\n            ths.className = \"Input-text\";\n            ths.classList.add(\"incorrectButton\");\n            fb.className = \"Feedback\";\n            fb.classList.add(\"incorrect\");\n        }\n\n        // What follows is for the saved responses stuff\n        var outerContainer = fb.parentElement.parentElement;\n        var responsesContainer = document.getElementById(\"responses\" + outerContainer.id);\n        if (responsesContainer) {\n            console.log(submission);\n            var qnum = document.getElementById(\"quizWrap\"+id).dataset.qnum;\n            //console.log(\"Question \" + qnum);\n            //console.log(id, \", got numcorrect=\",fb.dataset.numcorrect);\n            var responses=JSON.parse(responsesContainer.dataset.responses);\n            console.log(responses);\n            if (submission == ths.value){\n                responses[qnum]= submission;\n            } else {\n                responses[qnum]= ths.value + \"(\" + submission +\")\";\n            }\n            responsesContainer.setAttribute('data-responses', JSON.stringify(responses));\n            printResponses(responsesContainer);\n        }\n        // End code to preserve responses\n\n        if (typeof MathJax != 'undefined') {\n            var version = MathJax.version;\n            console.log('MathJax version', version);\n            if (version[0] == \"2\") {\n                MathJax.Hub.Queue([\"Typeset\", MathJax.Hub]);\n            } else if (version[0] == \"3\") {\n                MathJax.typeset([fb]);\n            }\n        } else {\n            console.log('MathJax not detected');\n        }\n        // After correct answer, if next JupyterQuiz question exists and has a text input, scroll by current question height\n        if (correct) {\n            // find the current question wrapper\n            var wrapper = ths.closest('.Quiz');\n            if (wrapper) {\n                var nextWrapper = wrapper.nextElementSibling;\n                if (nextWrapper && nextWrapper.classList.contains('Quiz')) {\n                    var nextInput = nextWrapper.querySelector('input.Input-text');\n                    if (nextInput) {\n                        var height = wrapper.getBoundingClientRect().height;\n                        console.log(height);\n                        nextInput.focus();\n                    }\n                }\n            }\n        }\n        return false;\n    }\n\n}\n// Object-oriented wrapper for numeric questions\nclass NumericQuestion extends Question {\n    constructor(qa, id, idx, opts, rootDiv) {\n        super(qa, id, idx, opts, rootDiv);\n    }\n    render() {\n        make_numeric(this.qa, this.outerqDiv, this.qDiv, this.aDiv, this.id);\n        this.wrapper.appendChild(this.fbDiv);\n    }\n}\nQuestion.register('numeric', NumericQuestion);\n\nfunction isValid(el, charC) {\n    //console.log(\"Input char: \", charC);\n    if (charC == 46) {\n        if (el.value.indexOf('.') === -1) {\n            return true;\n        } else if (el.value.indexOf('/') != -1) {\n            var parts = el.value.split('/');\n            if (parts[1].indexOf('.') === -1) {\n                return true;\n            }\n        }\n        else {\n            return false;\n        }\n    } else if (charC == 47) {\n        if (el.value.indexOf('/') === -1) {\n            if ((el.value != \"\") && (el.value != \".\")) {\n                return true;\n            } else {\n                return false;\n            }\n        } else {\n            return false;\n        }\n    } else if (charC == 45) {\n        var edex = el.value.indexOf('e');\n        if (edex == -1) {\n            edex = el.value.indexOf('E');\n        }\n\n        if (el.value == \"\") {\n            return true;\n        } else if (edex == (el.value.length - 1)) { // If just after e or E\n            return true;\n        } else {\n            return false;\n        }\n    } else if (charC == 101) { // \"e\"\n        if ((el.value.indexOf('e') === -1) && (el.value.indexOf('E') === -1) && (el.value.indexOf('/') == -1)) {\n            // Prev symbol must be digit or decimal point:\n            if (el.value.slice(-1).search(/\\d/) >= 0) {\n                return true;\n            } else if (el.value.slice(-1).search(/\\./) >= 0) {\n                return true;\n            } else {\n                return false;\n            }\n        } else {\n            return false;\n        }\n    } else {\n        if (charC > 31 && (charC < 48 || charC > 57))\n            return false;\n    }\n    return true;\n}\n\nfunction numeric_keypress(evnt) {\n    var charC = (evnt.which) ? evnt.which : evnt.keyCode;\n\n    if (charC == 13) {\n        check_numeric(this, evnt);\n    } else {\n        return isValid(this, charC);\n    }\n}\n\n\n\n\n\nfunction make_numeric(qa, outerqDiv, qDiv, aDiv, id) {\n\n\n\n    //console.log(answer);\n\n\n    outerqDiv.className = \"NumericQn\";\n    aDiv.style.display = 'block';\n\n    var lab = document.createElement(\"label\");\n    lab.className = \"InpLabel\";\n    lab.innerHTML = \"Type numeric answer here:\";\n    aDiv.append(lab);\n\n    var inp = document.createElement(\"input\");\n    inp.type = \"text\";\n    //inp.id=\"input-\"+id;\n    inp.id = id + \"-0\";\n    inp.className = \"Input-text\";\n    inp.setAttribute('data-answers', JSON.stringify(qa.answers));\n    if (\"precision\" in qa) {\n        inp.setAttribute('data-precision', qa.precision);\n    }\n    aDiv.append(inp);\n    //console.log(inp);\n\n    //inp.addEventListener(\"keypress\", check_numeric);\n    //inp.addEventListener(\"keypress\", numeric_keypress);\n    /*\n    inp.addEventListener(\"keypress\", function(event) {\n        return numeric_keypress(this, event);\n    }\n                        );\n                        */\n    //inp.onkeypress=\"return numeric_keypress(this, event)\";\n    inp.onkeypress = numeric_keypress;\n    inp.onpaste = event => false;\n\n    inp.addEventListener(\"focus\", function (event) {\n        this.value = \"\";\n        return false;\n    }\n    );\n\n\n}\n// Override show_questions to use object-oriented Question API\nfunction show_questions(json, container) {\n    // Accept container element or element ID\n    if (typeof container === 'string') {\n        container = document.getElementById(container);\n    }\n    if (!container) {\n        console.error('show_questions: invalid container', container);\n        return;\n    }\n\n    const shuffleQuestions = container.dataset.shufflequestions === 'True';\n    const shuffleAnswers = container.dataset.shuffleanswers === 'True';\n    const preserveResponses = container.dataset.preserveresponses === 'true';\n    const maxWidth = parseInt(container.dataset.maxwidth, 10) || 0;\n    let numQuestions = parseInt(container.dataset.numquestions, 10) || json.length;\n    if (numQuestions > json.length) numQuestions = json.length;\n\n    let questions = json;\n    if (shuffleQuestions || numQuestions < json.length) {\n        questions = getRandomSubarray(json, numQuestions);\n    }\n\n    questions.forEach((qa, index) => {\n        const id = makeid(8);\n        const options = {\n            shuffleAnswers: shuffleAnswers,\n            preserveResponses: preserveResponses,\n            maxWidth: maxWidth\n        };\n        Question.create(qa, id, index, options, container);\n    });\n\n    if (preserveResponses) {\n        const respDiv = document.createElement('div');\n        respDiv.id = 'responses' + container.id;\n        respDiv.className = 'JCResponses';\n        respDiv.dataset.responses = JSON.stringify([]);\n        respDiv.innerHTML = '<b>Select your answers and then follow the directions that will appear here.</b>';\n        container.appendChild(respDiv);\n    }\n\n    // Trigger MathJax typesetting if available\n    if (typeof MathJax != 'undefined') {\n        console.log(\"MathJax version\", MathJax.version);\n        var version = MathJax.version;\n        setTimeout(function(){\n            var version = MathJax.version;\n            console.log('After sleep, MathJax version', version);\n            if (version[0] == \"2\") {\n                MathJax.Hub.Queue([\"Typeset\", MathJax.Hub]);\n            } else if (version[0] == \"3\") {\n                if (MathJax.hasOwnProperty('typeset') ) {\n                    MathJax.typeset([container]);\n                } else {\n                    console.log('WARNING: Trying to force load MathJax 3');\n                    window.MathJax = {\n                        tex: {\n                            inlineMath: [['$', '$'], ['\\\\(', '\\\\)']]\n                        },\n                        svg: {\n                            fontCache: 'global'\n                        }\n                    };\n\n                    (function () {\n                        var script = document.createElement('script');\n                        script.src = 'https://cdn.jsdelivr.net/npm/mathjax@3/es5/tex-svg.js';\n                        script.async = true;\n                        document.head.appendChild(script);\n                    })();\n                }\n            }\n        }, 500);\nif (typeof version == 'undefined') {\n        } else\n        {\n            if (version[0] == \"2\") {\n                MathJax.Hub.Queue([\"Typeset\", MathJax.Hub]);\n            } else if (version[0] == \"3\") {\n                if (MathJax.hasOwnProperty('typeset') ) {\n                    MathJax.typeset([container]);\n                } else {\n                    console.log('WARNING: Trying to force load MathJax 3');\n                    window.MathJax = {\n                        tex: {\n                            inlineMath: [['$', '$'], ['\\\\(', '\\\\)']]\n                        },\n                        svg: {\n                            fontCache: 'global'\n                        }\n                    };\n\n                    (function () {\n                        var script = document.createElement('script');\n                        script.src = 'https://cdn.jsdelivr.net/npm/mathjax@3/es5/tex-svg.js';\n                        script.async = true;\n                        document.head.appendChild(script);\n                    })();\n                }\n            } else {\n                console.log(\"MathJax not found\");\n            }\n        }\n    }\n    // if (typeof MathJax !== 'undefined') {\n    //     const v = MathJax.version;\n    //     if (v[0] === '2') {\n    //         MathJax.Hub.Queue(['Typeset', MathJax.Hub]);\n    //     } else if (v[0] === '3') {\n    //         MathJax.typeset([container]);\n    //     }\n    // }\n\n    // Prevent link clicks from bubbling up\n    Array.from(container.getElementsByClassName('Link')).forEach(link => {\n        link.addEventListener('click', e => e.stopPropagation());\n    });\n}\nfunction levenshteinDistance(a, b) {\n    if (a.length === 0) return b.length;\n    if (b.length === 0) return a.length;\n\n    const matrix = Array(b.length + 1).fill(null).map(() => Array(a.length + 1).fill(null));\n\n    for (let i = 0; i <= a.length; i++) {\n        matrix[0][i] = i;\n    }\n\n    for (let j = 0; j <= b.length; j++) {\n        matrix[j][0] = j;\n    }\n\n    for (let j = 1; j <= b.length; j++) {\n        for (let i = 1; i <= a.length; i++) {\n            const cost = a[i - 1] === b[j - 1] ? 0 : 1;\n            matrix[j][i] = Math.min(\n                matrix[j - 1][i] + 1, // Deletion\n                matrix[j][i - 1] + 1, // Insertion\n                matrix[j - 1][i - 1] + cost // Substitution\n            );\n        }\n    }\n    return matrix[b.length][a.length];\n}\n// Object-oriented wrapper for string input questions\nclass StringQuestion extends Question {\n    constructor(qa, id, idx, opts, rootDiv) {\n        super(qa, id, idx, opts, rootDiv);\n    }\n    render() {\n        make_string(this.qa, this.outerqDiv, this.qDiv, this.aDiv, this.id);\n        this.wrapper.appendChild(this.fbDiv);\n    }\n}\nQuestion.register('string', StringQuestion);\n\nfunction check_string(ths, event) {\n    if (event.keyCode === 13) {\n        ths.blur();\n\n        var id = ths.id.split('-')[0];\n        var submission = ths.value.trim();\n        var fb = document.getElementById(\"fb\" + id);\n        fb.style.display = \"none\";\n        fb.innerHTML = \"Incorrect -- try again.\";\n\n        var answers = JSON.parse(ths.dataset.answers);\n        var defaultFB = \"Incorrect. Try again.\";\n        var correct;\n        var done = false;\n\n        // Handle default answer pattern: filter out and capture default feedback\n        var filteredAnswers = [];\n        answers.forEach(answer => {\n            if (answer.type === \"default\") {\n                defaultFB = answer.feedback;\n            } else {\n                filteredAnswers.push(answer);\n            }\n        });\n        answers = filteredAnswers;\n\n        answers.every(answer => {\n            correct = false;\n\n            let match = false;\n            if (answer.match_case) {\n                match = submission === answer.answer;\n            } else {\n                match = submission.toLowerCase() === answer.answer.toLowerCase();\n            }\n            console.log(submission);\n            console.log(answer.answer);\n            console.log(match);\n\n            if (match) {\n                if (\"feedback\" in answer) {\n                    fb.innerHTML = jaxify(answer.feedback);\n                } else {\n                    fb.innerHTML = jaxify(\"Correct\");\n                }\n                correct = answer.correct;\n                done = true;\n            } else if (answer.fuzzy_threshold) {\n                var max_length = Math.max(submission.length, answer.answer.length);\n                var ratio;\n                if (answer.match_case) {\n                    ratio = 1- (levenshteinDistance(submission, answer.answer) / max_length);\n                } else {\n                    ratio = 1- (levenshteinDistance(submission.toLowerCase(),\n                                                    answer.answer.toLowerCase()) / max_length);\n                }\n                if (ratio >= answer.fuzzy_threshold) {\n                    if (\"feedback\" in answer) {\n                        fb.innerHTML = jaxify(\"(Fuzzy) \" + answer.feedback);\n                    } else {\n                        fb.innerHTML = jaxify(\"Correct\");\n                    }\n                    correct = answer.correct;\n                    done = true;\n                }\n\n            }\n\n            if (done) {\n                return false;\n            } else {\n                return true;\n            }\n        });\n\n        if ((!done) && (defaultFB != \"\")) {\n            fb.innerHTML = jaxify(defaultFB);\n        }\n\n        fb.style.display = \"block\";\n        if (correct) {\n            ths.className = \"Input-text\";\n            ths.classList.add(\"correctButton\");\n            fb.className = \"Feedback\";\n            fb.classList.add(\"correct\");\n        } else {\n            ths.className = \"Input-text\";\n            ths.classList.add(\"incorrectButton\");\n            fb.className = \"Feedback\";\n            fb.classList.add(\"incorrect\");\n        }\n\n        var outerContainer = fb.parentElement.parentElement;\n        var responsesContainer = document.getElementById(\"responses\" + outerContainer.id);\n        if (responsesContainer) {\n            var qnum = document.getElementById(\"quizWrap\" + id).dataset.qnum;\n            var responses = JSON.parse(responsesContainer.dataset.responses);\n            responses[qnum] = submission;\n            responsesContainer.setAttribute('data-responses', JSON.stringify(responses));\n            printResponses(responsesContainer);\n        }\n\n        if (typeof MathJax != 'undefined') {\n            var version = MathJax.version;\n            if (version[0] == \"2\") {\n                MathJax.Hub.Queue([\"Typeset\", MathJax.Hub]);\n            } else if (version[0] == \"3\") {\n                MathJax.typeset([fb]);\n            }\n        } else {\n            console.log('MathJax not detected');\n        }\n        // After correct answer, if next JupyterQuiz question exists and has a text input, scroll by current question height\n        if (correct) {\n            var wrapper = ths.closest('.Quiz');\n            if (wrapper) {\n                var nextWrapper = wrapper.nextElementSibling;\n                if (nextWrapper && nextWrapper.classList.contains('Quiz')) {\n                    var nextInput = nextWrapper.querySelector('input.Input-text');\n                    if (nextInput) {\n                        var height = wrapper.getBoundingClientRect().height;\n                        nextInput.focus();\n                    }\n                }\n            }\n        }\n        return false;\n    }\n}\n\nfunction string_keypress(evnt) {\n    var charC = (evnt.which) ? evnt.which : evnt.keyCode;\n\n    if (charC == 13) {\n        check_string(this, evnt);\n    } \n}\n\n\nfunction make_string(qa, outerqDiv, qDiv, aDiv, id) {\n    outerqDiv.className = \"StringQn\";\n    aDiv.style.display = 'block';\n\n    var lab = document.createElement(\"label\");\n    lab.className = \"InpLabel\";\n    lab.innerHTML = \"Type your answer here:\";\n    aDiv.append(lab);\n\n    var inp = document.createElement(\"input\");\n    inp.type = \"text\";\n    inp.id = id + \"-0\";\n    inp.className = \"Input-text\";\n    inp.setAttribute('data-answers', JSON.stringify(qa.answers));\n    // Apply optional input width (approx. number of characters, in em units)\n    if (qa.input_width != null) {\n        inp.style['min-width'] = qa.input_width + 'em';\n    }\n    aDiv.append(inp);\n\n    inp.onkeypress = string_keypress;\n    inp.onpaste = event => false;\n\n    inp.addEventListener(\"focus\", function (event) {\n        this.value = \"\";\n        return false;\n    });\n}\n/*\n * Handle asynchrony issues when re-running quizzes in Jupyter notebooks.\n * Ensures show_questions is called after the container div is in the DOM.\n */\nfunction try_show() {\n  if (document.getElementById(\"udJIahLSGIHS\")) {\n    show_questions(questionsudJIahLSGIHS, udJIahLSGIHS);\n  } else {\n    setTimeout(try_show, 200);\n  }\n};\n// Invoke immediately\n{\n  try_show();\n}\n}\n",
      "text/plain": [
       "<IPython.core.display.Javascript object>"
      ]
     },
     "metadata": {},
     "output_type": "display_data"
    }
   ],
   "source": [
    "get_quiz()"
   ]
  },
  {
   "cell_type": "code",
   "execution_count": null,
   "id": "865eee4e",
   "metadata": {},
   "outputs": [],
   "source": []
  }
 ],
 "metadata": {
  "kernelspec": {
   "display_name": "fb2 (3.12.5)",
   "language": "python",
   "name": "python3"
  },
  "language_info": {
   "codemirror_mode": {
    "name": "ipython",
    "version": 3
   },
   "file_extension": ".py",
   "mimetype": "text/x-python",
   "name": "python",
   "nbconvert_exporter": "python",
   "pygments_lexer": "ipython3",
   "version": "3.12.5"
  }
 },
 "nbformat": 4,
 "nbformat_minor": 5
}
